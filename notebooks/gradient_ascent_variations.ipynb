{
 "cells": [
  {
   "cell_type": "code",
   "execution_count": 1,
   "id": "5f6a8e04",
   "metadata": {},
   "outputs": [],
   "source": [
    "import sys, os\n",
    "\n",
    "sys.path.insert(0, os.path.abspath(os.path.join(\"..\")))\n",
    "\n",
    "import numpy as np\n",
    "from uot.problems.generators import GaussianMixtureGenerator\n",
    "\n",
    "from uot.utils.costs import cost_euclid_squared\n",
    "from uot.problems.inspect_store import plot_1d\n",
    "\n",
    "from uot.solvers.gradient_ascent import (\n",
    "    GradientAscentPlainLogSolver,\n",
    "    GradientAscentTwoMarginalSolver,\n",
    "    LogDomainGradientAscentSolver,\n",
    ")"
   ]
  },
  {
   "cell_type": "code",
   "execution_count": 2,
   "id": "bca02021",
   "metadata": {},
   "outputs": [],
   "source": [
    "seed = 55\n",
    "\n",
    "\n",
    "def get_gaussian_problems(seed):\n",
    "    gen = GaussianMixtureGenerator(\n",
    "        name=\"\",\n",
    "        dim=1,\n",
    "        num_components=1,\n",
    "        n_points=64,\n",
    "        num_datasets=5,\n",
    "        borders=(-6, 6),\n",
    "        cost_fn=cost_euclid_squared,\n",
    "        use_jax=False,\n",
    "        seed=seed,\n",
    "    )\n",
    "\n",
    "    problems = []\n",
    "    for p in gen.generate():\n",
    "        problems.append(p)\n",
    "    return problems"
   ]
  },
  {
   "cell_type": "code",
   "execution_count": 3,
   "id": "92613353",
   "metadata": {},
   "outputs": [],
   "source": [
    "problems_list = get_gaussian_problems(seed=55)"
   ]
  },
  {
   "cell_type": "code",
   "execution_count": null,
   "id": "b9dc14bf",
   "metadata": {},
   "outputs": [
    {
     "data": {
      "application/vnd.plotly.v1+json": {
       "config": {
        "plotlyServerURL": "https://plot.ly"
       },
       "data": [
        {
         "mode": "markers+lines",
         "name": "μ",
         "type": "scatter",
         "x": {
          "bdata": "AADAwJ7nucA9z7PA27atwHqep8AYhqHAt22bwFVVlcD0PI/AkiSJwDEMg8Ce53nA27ZtwBiGYcBVVVXAkiRJwM/zPMAMwzDASZIkwIZhGMDDMAzAAAAAwHqe57/0PM+/btu2v+h5nr9iGIa/t21bv6uqKr89z/O+JUmSvjEMw70xDMM9JUmSPj3P8z6rqio/t21bP2IYhj/oeZ4/btu2P/Q8zz96nuc/AAAAQMMwDECGYRhASZIkQAzDMEDP8zxAkiRJQFVVVUAYhmFA27ZtQJ7neUAxDINAkiSJQPQ8j0BVVZVAt22bQBiGoUB6nqdA27atQD3Ps0Ce57lAAADAQA==",
          "dtype": "f4"
         },
         "y": {
          "bdata": "cFU4OiIoVDrvhHM6lWGLOiYfnzq8KrU6dbXNOqDx6DoqiQM7eiUUO09nJjvIZzo7Oj9QO9cEaDsf54A7i9eOO0zcnTuQ/K072D2/O7qj0TuuL+U7zeD5O9HZBzz5UBM8S1EfPKvUKzxk0zg8H0RGPN8bVDwBTmI8RMxwPNSGfzwvNoc8F7WOPCM2ljzIrp08ARSlPGxarDxjdrM8Gly6PMD/wDyhVcc8RlLNPJfq0jz/E9g8i8TcPA7z4Dw3l+Q8tannPEwk6jzoAew8sT7tPBjY7TzfzO08HB3tPDzK6zz91uk8YUfnPKYg5DwwaeA8dCjcPOJm1zzFLdI8JofMPA==",
          "dtype": "f4"
         }
        },
        {
         "mode": "markers+lines",
         "name": "ν",
         "type": "scatter",
         "x": {
          "bdata": "AADAwJ7nucA9z7PA27atwHqep8AYhqHAt22bwFVVlcD0PI/AkiSJwDEMg8Ce53nA27ZtwBiGYcBVVVXAkiRJwM/zPMAMwzDASZIkwIZhGMDDMAzAAAAAwHqe57/0PM+/btu2v+h5nr9iGIa/t21bv6uqKr89z/O+JUmSvjEMw70xDMM9JUmSPj3P8z6rqio/t21bP2IYhj/oeZ4/btu2P/Q8zz96nuc/AAAAQMMwDECGYRhASZIkQAzDMEDP8zxAkiRJQFVVVUAYhmFA27ZtQJ7neUAxDINAkiSJQPQ8j0BVVZVAt22bQBiGoUB6nqdA27atQD3Ps0Ce57lAAADAQA==",
          "dtype": "f4"
         },
         "y": {
          "bdata": "2NcpOWMn0jk22nI6fgwDO/8WhDufr/g7eqJaPAOEszxwqAk9HSxFPRLhgz2awqQ9cj3APe570T2LMdU9VqLKPZTfsz3LHpU9Q+pmPc75Jj0ph+E8YT6OPGSTJzxTYLg7bXU9O7bRtTq39SI6OWiIOU9G1Ti6ths4olpUN2g7hzbR26A1PLOyNKJnuTP9prMy0ZOiMb5niTCO6lgvGegfLjQv3Cytk40rfgkqKvK5viiOzEcnqXnDJSmcMiTwapgiVPLyIJ/UNB9baHsdEjijG7/txRmHKeAXnxntFVA36hPTFNgRJC66D4rRlQ3YL2EL5w0eCVE2zwYYtn0EkQ8RAg==",
          "dtype": "f4"
         }
        }
       ],
       "layout": {
        "template": {
         "data": {
          "bar": [
           {
            "error_x": {
             "color": "#2a3f5f"
            },
            "error_y": {
             "color": "#2a3f5f"
            },
            "marker": {
             "line": {
              "color": "#E5ECF6",
              "width": 0.5
             },
             "pattern": {
              "fillmode": "overlay",
              "size": 10,
              "solidity": 0.2
             }
            },
            "type": "bar"
           }
          ],
          "barpolar": [
           {
            "marker": {
             "line": {
              "color": "#E5ECF6",
              "width": 0.5
             },
             "pattern": {
              "fillmode": "overlay",
              "size": 10,
              "solidity": 0.2
             }
            },
            "type": "barpolar"
           }
          ],
          "carpet": [
           {
            "aaxis": {
             "endlinecolor": "#2a3f5f",
             "gridcolor": "white",
             "linecolor": "white",
             "minorgridcolor": "white",
             "startlinecolor": "#2a3f5f"
            },
            "baxis": {
             "endlinecolor": "#2a3f5f",
             "gridcolor": "white",
             "linecolor": "white",
             "minorgridcolor": "white",
             "startlinecolor": "#2a3f5f"
            },
            "type": "carpet"
           }
          ],
          "choropleth": [
           {
            "colorbar": {
             "outlinewidth": 0,
             "ticks": ""
            },
            "type": "choropleth"
           }
          ],
          "contour": [
           {
            "colorbar": {
             "outlinewidth": 0,
             "ticks": ""
            },
            "colorscale": [
             [
              0,
              "#0d0887"
             ],
             [
              0.1111111111111111,
              "#46039f"
             ],
             [
              0.2222222222222222,
              "#7201a8"
             ],
             [
              0.3333333333333333,
              "#9c179e"
             ],
             [
              0.4444444444444444,
              "#bd3786"
             ],
             [
              0.5555555555555556,
              "#d8576b"
             ],
             [
              0.6666666666666666,
              "#ed7953"
             ],
             [
              0.7777777777777778,
              "#fb9f3a"
             ],
             [
              0.8888888888888888,
              "#fdca26"
             ],
             [
              1,
              "#f0f921"
             ]
            ],
            "type": "contour"
           }
          ],
          "contourcarpet": [
           {
            "colorbar": {
             "outlinewidth": 0,
             "ticks": ""
            },
            "type": "contourcarpet"
           }
          ],
          "heatmap": [
           {
            "colorbar": {
             "outlinewidth": 0,
             "ticks": ""
            },
            "colorscale": [
             [
              0,
              "#0d0887"
             ],
             [
              0.1111111111111111,
              "#46039f"
             ],
             [
              0.2222222222222222,
              "#7201a8"
             ],
             [
              0.3333333333333333,
              "#9c179e"
             ],
             [
              0.4444444444444444,
              "#bd3786"
             ],
             [
              0.5555555555555556,
              "#d8576b"
             ],
             [
              0.6666666666666666,
              "#ed7953"
             ],
             [
              0.7777777777777778,
              "#fb9f3a"
             ],
             [
              0.8888888888888888,
              "#fdca26"
             ],
             [
              1,
              "#f0f921"
             ]
            ],
            "type": "heatmap"
           }
          ],
          "histogram": [
           {
            "marker": {
             "pattern": {
              "fillmode": "overlay",
              "size": 10,
              "solidity": 0.2
             }
            },
            "type": "histogram"
           }
          ],
          "histogram2d": [
           {
            "colorbar": {
             "outlinewidth": 0,
             "ticks": ""
            },
            "colorscale": [
             [
              0,
              "#0d0887"
             ],
             [
              0.1111111111111111,
              "#46039f"
             ],
             [
              0.2222222222222222,
              "#7201a8"
             ],
             [
              0.3333333333333333,
              "#9c179e"
             ],
             [
              0.4444444444444444,
              "#bd3786"
             ],
             [
              0.5555555555555556,
              "#d8576b"
             ],
             [
              0.6666666666666666,
              "#ed7953"
             ],
             [
              0.7777777777777778,
              "#fb9f3a"
             ],
             [
              0.8888888888888888,
              "#fdca26"
             ],
             [
              1,
              "#f0f921"
             ]
            ],
            "type": "histogram2d"
           }
          ],
          "histogram2dcontour": [
           {
            "colorbar": {
             "outlinewidth": 0,
             "ticks": ""
            },
            "colorscale": [
             [
              0,
              "#0d0887"
             ],
             [
              0.1111111111111111,
              "#46039f"
             ],
             [
              0.2222222222222222,
              "#7201a8"
             ],
             [
              0.3333333333333333,
              "#9c179e"
             ],
             [
              0.4444444444444444,
              "#bd3786"
             ],
             [
              0.5555555555555556,
              "#d8576b"
             ],
             [
              0.6666666666666666,
              "#ed7953"
             ],
             [
              0.7777777777777778,
              "#fb9f3a"
             ],
             [
              0.8888888888888888,
              "#fdca26"
             ],
             [
              1,
              "#f0f921"
             ]
            ],
            "type": "histogram2dcontour"
           }
          ],
          "mesh3d": [
           {
            "colorbar": {
             "outlinewidth": 0,
             "ticks": ""
            },
            "type": "mesh3d"
           }
          ],
          "parcoords": [
           {
            "line": {
             "colorbar": {
              "outlinewidth": 0,
              "ticks": ""
             }
            },
            "type": "parcoords"
           }
          ],
          "pie": [
           {
            "automargin": true,
            "type": "pie"
           }
          ],
          "scatter": [
           {
            "fillpattern": {
             "fillmode": "overlay",
             "size": 10,
             "solidity": 0.2
            },
            "type": "scatter"
           }
          ],
          "scatter3d": [
           {
            "line": {
             "colorbar": {
              "outlinewidth": 0,
              "ticks": ""
             }
            },
            "marker": {
             "colorbar": {
              "outlinewidth": 0,
              "ticks": ""
             }
            },
            "type": "scatter3d"
           }
          ],
          "scattercarpet": [
           {
            "marker": {
             "colorbar": {
              "outlinewidth": 0,
              "ticks": ""
             }
            },
            "type": "scattercarpet"
           }
          ],
          "scattergeo": [
           {
            "marker": {
             "colorbar": {
              "outlinewidth": 0,
              "ticks": ""
             }
            },
            "type": "scattergeo"
           }
          ],
          "scattergl": [
           {
            "marker": {
             "colorbar": {
              "outlinewidth": 0,
              "ticks": ""
             }
            },
            "type": "scattergl"
           }
          ],
          "scattermap": [
           {
            "marker": {
             "colorbar": {
              "outlinewidth": 0,
              "ticks": ""
             }
            },
            "type": "scattermap"
           }
          ],
          "scattermapbox": [
           {
            "marker": {
             "colorbar": {
              "outlinewidth": 0,
              "ticks": ""
             }
            },
            "type": "scattermapbox"
           }
          ],
          "scatterpolar": [
           {
            "marker": {
             "colorbar": {
              "outlinewidth": 0,
              "ticks": ""
             }
            },
            "type": "scatterpolar"
           }
          ],
          "scatterpolargl": [
           {
            "marker": {
             "colorbar": {
              "outlinewidth": 0,
              "ticks": ""
             }
            },
            "type": "scatterpolargl"
           }
          ],
          "scatterternary": [
           {
            "marker": {
             "colorbar": {
              "outlinewidth": 0,
              "ticks": ""
             }
            },
            "type": "scatterternary"
           }
          ],
          "surface": [
           {
            "colorbar": {
             "outlinewidth": 0,
             "ticks": ""
            },
            "colorscale": [
             [
              0,
              "#0d0887"
             ],
             [
              0.1111111111111111,
              "#46039f"
             ],
             [
              0.2222222222222222,
              "#7201a8"
             ],
             [
              0.3333333333333333,
              "#9c179e"
             ],
             [
              0.4444444444444444,
              "#bd3786"
             ],
             [
              0.5555555555555556,
              "#d8576b"
             ],
             [
              0.6666666666666666,
              "#ed7953"
             ],
             [
              0.7777777777777778,
              "#fb9f3a"
             ],
             [
              0.8888888888888888,
              "#fdca26"
             ],
             [
              1,
              "#f0f921"
             ]
            ],
            "type": "surface"
           }
          ],
          "table": [
           {
            "cells": {
             "fill": {
              "color": "#EBF0F8"
             },
             "line": {
              "color": "white"
             }
            },
            "header": {
             "fill": {
              "color": "#C8D4E3"
             },
             "line": {
              "color": "white"
             }
            },
            "type": "table"
           }
          ]
         },
         "layout": {
          "annotationdefaults": {
           "arrowcolor": "#2a3f5f",
           "arrowhead": 0,
           "arrowwidth": 1
          },
          "autotypenumbers": "strict",
          "coloraxis": {
           "colorbar": {
            "outlinewidth": 0,
            "ticks": ""
           }
          },
          "colorscale": {
           "diverging": [
            [
             0,
             "#8e0152"
            ],
            [
             0.1,
             "#c51b7d"
            ],
            [
             0.2,
             "#de77ae"
            ],
            [
             0.3,
             "#f1b6da"
            ],
            [
             0.4,
             "#fde0ef"
            ],
            [
             0.5,
             "#f7f7f7"
            ],
            [
             0.6,
             "#e6f5d0"
            ],
            [
             0.7,
             "#b8e186"
            ],
            [
             0.8,
             "#7fbc41"
            ],
            [
             0.9,
             "#4d9221"
            ],
            [
             1,
             "#276419"
            ]
           ],
           "sequential": [
            [
             0,
             "#0d0887"
            ],
            [
             0.1111111111111111,
             "#46039f"
            ],
            [
             0.2222222222222222,
             "#7201a8"
            ],
            [
             0.3333333333333333,
             "#9c179e"
            ],
            [
             0.4444444444444444,
             "#bd3786"
            ],
            [
             0.5555555555555556,
             "#d8576b"
            ],
            [
             0.6666666666666666,
             "#ed7953"
            ],
            [
             0.7777777777777778,
             "#fb9f3a"
            ],
            [
             0.8888888888888888,
             "#fdca26"
            ],
            [
             1,
             "#f0f921"
            ]
           ],
           "sequentialminus": [
            [
             0,
             "#0d0887"
            ],
            [
             0.1111111111111111,
             "#46039f"
            ],
            [
             0.2222222222222222,
             "#7201a8"
            ],
            [
             0.3333333333333333,
             "#9c179e"
            ],
            [
             0.4444444444444444,
             "#bd3786"
            ],
            [
             0.5555555555555556,
             "#d8576b"
            ],
            [
             0.6666666666666666,
             "#ed7953"
            ],
            [
             0.7777777777777778,
             "#fb9f3a"
            ],
            [
             0.8888888888888888,
             "#fdca26"
            ],
            [
             1,
             "#f0f921"
            ]
           ]
          },
          "colorway": [
           "#636efa",
           "#EF553B",
           "#00cc96",
           "#ab63fa",
           "#FFA15A",
           "#19d3f3",
           "#FF6692",
           "#B6E880",
           "#FF97FF",
           "#FECB52"
          ],
          "font": {
           "color": "#2a3f5f"
          },
          "geo": {
           "bgcolor": "white",
           "lakecolor": "white",
           "landcolor": "#E5ECF6",
           "showlakes": true,
           "showland": true,
           "subunitcolor": "white"
          },
          "hoverlabel": {
           "align": "left"
          },
          "hovermode": "closest",
          "mapbox": {
           "style": "light"
          },
          "paper_bgcolor": "white",
          "plot_bgcolor": "#E5ECF6",
          "polar": {
           "angularaxis": {
            "gridcolor": "white",
            "linecolor": "white",
            "ticks": ""
           },
           "bgcolor": "#E5ECF6",
           "radialaxis": {
            "gridcolor": "white",
            "linecolor": "white",
            "ticks": ""
           }
          },
          "scene": {
           "xaxis": {
            "backgroundcolor": "#E5ECF6",
            "gridcolor": "white",
            "gridwidth": 2,
            "linecolor": "white",
            "showbackground": true,
            "ticks": "",
            "zerolinecolor": "white"
           },
           "yaxis": {
            "backgroundcolor": "#E5ECF6",
            "gridcolor": "white",
            "gridwidth": 2,
            "linecolor": "white",
            "showbackground": true,
            "ticks": "",
            "zerolinecolor": "white"
           },
           "zaxis": {
            "backgroundcolor": "#E5ECF6",
            "gridcolor": "white",
            "gridwidth": 2,
            "linecolor": "white",
            "showbackground": true,
            "ticks": "",
            "zerolinecolor": "white"
           }
          },
          "shapedefaults": {
           "line": {
            "color": "#2a3f5f"
           }
          },
          "ternary": {
           "aaxis": {
            "gridcolor": "white",
            "linecolor": "white",
            "ticks": ""
           },
           "baxis": {
            "gridcolor": "white",
            "linecolor": "white",
            "ticks": ""
           },
           "bgcolor": "#E5ECF6",
           "caxis": {
            "gridcolor": "white",
            "linecolor": "white",
            "ticks": ""
           }
          },
          "title": {
           "x": 0.05
          },
          "xaxis": {
           "automargin": true,
           "gridcolor": "white",
           "linecolor": "white",
           "ticks": "",
           "title": {
            "standoff": 15
           },
           "zerolinecolor": "white",
           "zerolinewidth": 2
          },
          "yaxis": {
           "automargin": true,
           "gridcolor": "white",
           "linecolor": "white",
           "ticks": "",
           "title": {
            "standoff": 15
           },
           "zerolinecolor": "white",
           "zerolinewidth": 2
          }
         }
        }
       }
      }
     },
     "metadata": {},
     "output_type": "display_data"
    }
   ],
   "source": [
    "prob1 = problems_list[0]\n",
    "mu1, nu1 = prob1.get_marginals()\n",
    "\n",
    "mu1_pts, mu1_w = mu1.to_discrete()\n",
    "nu1_pts, nu1_w = nu1.to_discrete()\n",
    "\n",
    "fig1 = plot_1d(mu1_pts, mu1_w, nu1_pts, nu1_w)\n",
    "fig1"
   ]
  },
  {
   "cell_type": "code",
   "execution_count": 6,
   "id": "dc003aab",
   "metadata": {},
   "outputs": [
    {
     "data": {
      "text/plain": [
       "{'transport_plan': Array([[3.0109544e-05, 3.0371319e-05, 3.0948049e-05, ..., 0.0000000e+00,\n",
       "         0.0000000e+00, 0.0000000e+00],\n",
       "        [3.0413927e-05, 3.0678319e-05, 3.1260875e-05, ..., 0.0000000e+00,\n",
       "         0.0000000e+00, 0.0000000e+00],\n",
       "        [3.0760610e-05, 3.1028078e-05, 3.1617215e-05, ..., 0.0000000e+00,\n",
       "         0.0000000e+00, 0.0000000e+00],\n",
       "        ...,\n",
       "        [3.0160829e-04, 3.0423049e-04, 3.1000731e-04, ..., 0.0000000e+00,\n",
       "         0.0000000e+00, 0.0000000e+00],\n",
       "        [2.8607761e-04, 2.8856480e-04, 2.9404444e-04, ..., 0.0000000e+00,\n",
       "         0.0000000e+00, 0.0000000e+00],\n",
       "        [2.7007671e-04, 2.7242478e-04, 2.7759792e-04, ..., 0.0000000e+00,\n",
       "         0.0000000e+00, 0.0000000e+00]], dtype=float32),\n",
       " 'cost': Array(0.02570258, dtype=float32),\n",
       " 'u_final': Array([-4.35586832e-02, -4.25528884e-02, -4.14193645e-02, -4.01458852e-02,\n",
       "        -3.87198627e-02, -3.71279493e-02, -3.53565551e-02, -3.33915539e-02,\n",
       "        -3.12191173e-02, -2.88250707e-02, -2.61953883e-02, -2.33165789e-02,\n",
       "        -2.01756731e-02, -1.67602524e-02, -1.30592166e-02, -9.06269811e-03,\n",
       "        -4.76198923e-03, -1.50503620e-04,  4.77614813e-03,  1.00202188e-02,\n",
       "         1.55814225e-02,  2.14563552e-02,  2.76387483e-02,  3.41189131e-02,\n",
       "         4.08836342e-02,  4.79163043e-02,  5.51964566e-02,  6.27001449e-02,\n",
       "         7.03994036e-02,  7.82632083e-02,  8.62566084e-02,  9.43419784e-02,\n",
       "         1.02478497e-01,  1.10623285e-01,  1.18731208e-01,  1.26755714e-01,\n",
       "         1.34649605e-01,  1.42364308e-01,  1.49851739e-01,  1.57072917e-01,\n",
       "         1.63968906e-01,  1.70502841e-01,  1.76638007e-01,  1.82332486e-01,\n",
       "         1.87550038e-01,  1.92264199e-01,  1.96442038e-01,  2.00061321e-01,\n",
       "         2.03100786e-01,  2.05542937e-01,  2.07376733e-01,  2.08588853e-01,\n",
       "         2.09175929e-01,  2.09133998e-01,  2.08461672e-01,  2.07163215e-01,\n",
       "         2.05245674e-01,  2.02721223e-01,  1.99602172e-01,  1.95905715e-01,\n",
       "         1.91653401e-01,  1.86869994e-01,  1.81583434e-01,  1.75827667e-01],      dtype=float32),\n",
       " 'v_final': Array([-9.9750817e-01, -9.6036124e-01, -8.4963673e-01, -6.6451859e-01,\n",
       "        -4.0466136e-01, -8.7232716e-02,  1.2263999e-01,  2.1893960e-01,\n",
       "         3.3608535e-01,  4.8132679e-01,  6.4391744e-01,  8.0452156e-01,\n",
       "         9.3874139e-01,  1.0228243e+00,  1.0408398e+00,  9.8943663e-01,\n",
       "         8.7840337e-01,  7.2817451e-01,  5.6380701e-01,  4.0767854e-01,\n",
       "         2.7533975e-01,  1.7363879e-01,  1.0229087e-01,  5.6261703e-02,\n",
       "         2.8908318e-02,  1.3869984e-02,  6.2165610e-03,  2.6015791e-03,\n",
       "         1.0169375e-03,  3.7127489e-04,  1.2658516e-04,  4.0306015e-05,\n",
       "         1.1986417e-05,  3.3287176e-06,  8.6342021e-07,  2.0915292e-07,\n",
       "         4.7319908e-08,  9.9977857e-09,  1.9728035e-09,  3.6359690e-10,\n",
       "         6.2586804e-11,  1.0060658e-11,  1.5102885e-12,  2.1172514e-13,\n",
       "         2.7730773e-14,  3.3906930e-15,  3.8726823e-16,  4.1315491e-17,\n",
       "         4.1153274e-18,  3.8288893e-19,  3.3277841e-20,  2.7000821e-21,\n",
       "         2.0463008e-22,  1.4484928e-23,  9.5756482e-25,  5.9124730e-26,\n",
       "         3.4089823e-27,  1.8357296e-28,  9.2329706e-30,  4.3369587e-31,\n",
       "         1.9027144e-32,  7.7934256e-34,  0.0000000e+00,  0.0000000e+00],      dtype=float32),\n",
       " 'iterations': Array(10000, dtype=int32, weak_type=True),\n",
       " 'error': Array(0.00010407, dtype=float32)}"
      ]
     },
     "execution_count": 6,
     "metadata": {},
     "output_type": "execute_result"
    }
   ],
   "source": [
    "prob1 = problems_list[0]\n",
    "gradient_solver = GradientAscentTwoMarginalSolver()\n",
    "result = gradient_solver.solve(\n",
    "    marginals=prob1.get_marginals(),\n",
    "    costs=prob1.get_costs()[0],\n",
    "    reg=0.1,\n",
    "    maxiter=10_000,\n",
    "    tol=1e-6,\n",
    "    learning_rate=0.001,\n",
    ")\n",
    "\n",
    "result"
   ]
  },
  {
   "cell_type": "markdown",
   "id": "5b6f07d8",
   "metadata": {},
   "source": [
    "# Now with the Experiment Pipeline"
   ]
  },
  {
   "cell_type": "code",
   "execution_count": 30,
   "id": "1360fe3f",
   "metadata": {},
   "outputs": [],
   "source": [
    "from uot.experiments.runner import run_pipeline\n",
    "from uot.experiments.experiment import Experiment\n",
    "\n",
    "from uot.solvers.sinkhorn import SinkhornTwoMarginalSolver\n",
    "from uot.problems.iterator import OnlineProblemIterator\n",
    "from uot.solvers.solver_config import SolverConfig"
   ]
  },
  {
   "cell_type": "code",
   "execution_count": null,
   "id": "278160ff",
   "metadata": {},
   "outputs": [
    {
     "name": "stdout",
     "output_type": "stream",
     "text": [
      "2025-07-16 18:57:43,918 uot INFO: starting pipeline...\n"
     ]
    },
    {
     "name": "stderr",
     "output_type": "stream",
     "text": [
      "INFO\tuot:runner.py:run_pipeline()- starting pipeline...\n"
     ]
    },
    {
     "name": "stdout",
     "output_type": "stream",
     "text": [
      "2025-07-16 18:57:43,929 uot INFO: Running experiments...\n"
     ]
    },
    {
     "name": "stderr",
     "output_type": "stream",
     "text": [
      "INFO\tuot:runner.py:run_pipeline()- Running experiments...\n"
     ]
    },
    {
     "name": "stdout",
     "output_type": "stream",
     "text": [
      "2025-07-16 18:57:43,931 uot INFO: Running set of problems on <class 'uot.solvers.sinkhorn.SinkhornTwoMarginalSolver'>            with {'reg': 0.01}\n"
     ]
    },
    {
     "name": "stderr",
     "output_type": "stream",
     "text": [
      "INFO\tuot:runner.py:run_pipeline()- Running set of problems on <class 'uot.solvers.sinkhorn.SinkhornTwoMarginalSolver'>            with {'reg': 0.01}\n"
     ]
    },
    {
     "name": "stdout",
     "output_type": "stream",
     "text": [
      "2025-07-16 18:57:44,447 uot.problems.iterator INFO: Generated problem <TwoMarginalProblem[] 16x16        with (<map object at 0x130bc8070>)>\n",
      "2025-07-16 18:57:44,447 uot.problems.iterator INFO: Generated problem <TwoMarginalProblem[] 16x16        with (<map object at 0x130bc8070>)>\n"
     ]
    },
    {
     "name": "stderr",
     "output_type": "stream",
     "text": [
      "INFO\tuot.problems.iterator:iterator.py:__next__()- Generated problem <TwoMarginalProblem[] 16x16        with (<map object at 0x130bc8070>)>\n"
     ]
    },
    {
     "name": "stdout",
     "output_type": "stream",
     "text": [
      "2025-07-16 18:57:44,861 uot INFO: Starting SinkhornTwoMarginalSolver with {'reg': 0.01} on <TwoMarginalProblem[] 16x16        with (<map object at 0x130869300>)>\n"
     ]
    },
    {
     "name": "stderr",
     "output_type": "stream",
     "text": [
      "INFO\tuot:experiment.py:run_on_problems()- Starting SinkhornTwoMarginalSolver with {'reg': 0.01} on <TwoMarginalProblem[] 16x16        with (<map object at 0x130869300>)>\n"
     ]
    },
    {
     "name": "stdout",
     "output_type": "stream",
     "text": [
      "<TwoMarginalProblem[] 16x16        with (<map object at 0x130868790>)>\n",
      "[0.00363909 0.00629762 0.01039015 0.0163429  0.02450747 0.03503725\n",
      " 0.04775554 0.06205539 0.07687716 0.09079821 0.10223966 0.10975481\n",
      " 0.11232846 0.10960193 0.10195503 0.09041932]\n",
      "[1.15177354e-04 5.44354226e-03 7.70485252e-02 3.26599330e-01\n",
      " 4.14604962e-01 1.57623857e-01 1.79464109e-02 6.11929689e-04\n",
      " 6.24875747e-06 1.91097094e-08 1.75017986e-11 4.80042370e-15\n",
      " 3.94316248e-19 9.70013977e-24 7.14627260e-29 1.57670113e-34]\n",
      "2025-07-16 18:57:44,873 uot INFO: Successfully finished SinkhornTwoMarginalSolver with {'reg': 0.01}\n"
     ]
    },
    {
     "name": "stderr",
     "output_type": "stream",
     "text": [
      "INFO\tuot:experiment.py:run_on_problems()- Successfully finished SinkhornTwoMarginalSolver with {'reg': 0.01}\n"
     ]
    },
    {
     "name": "stdout",
     "output_type": "stream",
     "text": [
      "2025-07-16 18:57:44,925 uot.problems.iterator INFO: Generated problem <TwoMarginalProblem[] 16x16        with (<map object at 0x130869330>)>\n",
      "2025-07-16 18:57:44,925 uot.problems.iterator INFO: Generated problem <TwoMarginalProblem[] 16x16        with (<map object at 0x130869330>)>\n"
     ]
    },
    {
     "name": "stderr",
     "output_type": "stream",
     "text": [
      "INFO\tuot.problems.iterator:iterator.py:__next__()- Generated problem <TwoMarginalProblem[] 16x16        with (<map object at 0x130869330>)>\n"
     ]
    },
    {
     "name": "stdout",
     "output_type": "stream",
     "text": [
      "2025-07-16 18:57:44,941 uot INFO: Starting SinkhornTwoMarginalSolver with {'reg': 0.01} on <TwoMarginalProblem[] 16x16        with (<map object at 0x13076b8e0>)>\n"
     ]
    },
    {
     "name": "stderr",
     "output_type": "stream",
     "text": [
      "INFO\tuot:experiment.py:run_on_problems()- Starting SinkhornTwoMarginalSolver with {'reg': 0.01} on <TwoMarginalProblem[] 16x16        with (<map object at 0x13076b8e0>)>\n"
     ]
    },
    {
     "name": "stdout",
     "output_type": "stream",
     "text": [
      "<TwoMarginalProblem[] 16x16        with (<map object at 0x13076b8e0>)>\n",
      "[2.42353828e-11 8.91080187e-09 1.39215103e-06 9.24184278e-05\n",
      " 2.60695443e-03 3.12471893e-02 1.59144327e-01 3.44408602e-01\n",
      " 3.16708326e-01 1.23750694e-01 2.05465276e-02 1.44954573e-03\n",
      " 4.34538269e-05 5.53511711e-07 2.99590641e-09 6.89020759e-12]\n",
      "[2.2914280e-06 1.8656305e-05 1.2251979e-04 6.4900506e-04 2.7730081e-03\n",
      " 9.5568635e-03 2.6566898e-02 5.9569992e-02 1.0773962e-01 1.5717539e-01\n",
      " 1.8495023e-01 1.7554417e-01 1.3439378e-01 8.2991406e-02 4.1337889e-02\n",
      " 1.6608279e-02]\n",
      "2025-07-16 18:57:44,959 uot INFO: Successfully finished SinkhornTwoMarginalSolver with {'reg': 0.01}\n"
     ]
    },
    {
     "name": "stderr",
     "output_type": "stream",
     "text": [
      "INFO\tuot:experiment.py:run_on_problems()- Successfully finished SinkhornTwoMarginalSolver with {'reg': 0.01}\n"
     ]
    },
    {
     "name": "stdout",
     "output_type": "stream",
     "text": [
      "2025-07-16 18:57:44,981 uot.problems.iterator INFO: Generated problem <TwoMarginalProblem[] 16x16        with (<map object at 0x130868550>)>\n",
      "2025-07-16 18:57:44,981 uot.problems.iterator INFO: Generated problem <TwoMarginalProblem[] 16x16        with (<map object at 0x130868550>)>\n"
     ]
    },
    {
     "name": "stderr",
     "output_type": "stream",
     "text": [
      "INFO\tuot.problems.iterator:iterator.py:__next__()- Generated problem <TwoMarginalProblem[] 16x16        with (<map object at 0x130868550>)>\n"
     ]
    },
    {
     "name": "stdout",
     "output_type": "stream",
     "text": [
      "2025-07-16 18:57:45,055 uot INFO: Starting SinkhornTwoMarginalSolver with {'reg': 0.01} on <TwoMarginalProblem[] 16x16        with (<map object at 0x130768220>)>\n"
     ]
    },
    {
     "name": "stderr",
     "output_type": "stream",
     "text": [
      "INFO\tuot:experiment.py:run_on_problems()- Starting SinkhornTwoMarginalSolver with {'reg': 0.01} on <TwoMarginalProblem[] 16x16        with (<map object at 0x130768220>)>\n"
     ]
    },
    {
     "name": "stdout",
     "output_type": "stream",
     "text": [
      "<TwoMarginalProblem[] 16x16        with (<map object at 0x13076a050>)>\n",
      "[0.00363909 0.00629762 0.01039015 0.0163429  0.02450747 0.03503725\n",
      " 0.04775554 0.06205539 0.07687716 0.09079821 0.10223966 0.10975481\n",
      " 0.11232846 0.10960193 0.10195503 0.09041932]\n",
      "[1.15177354e-04 5.44354226e-03 7.70485252e-02 3.26599330e-01\n",
      " 4.14604962e-01 1.57623857e-01 1.79464109e-02 6.11929689e-04\n",
      " 6.24875747e-06 1.91097094e-08 1.75017986e-11 4.80042370e-15\n",
      " 3.94316248e-19 9.70013977e-24 7.14627260e-29 1.57670113e-34]\n",
      "2025-07-16 18:57:45,060 uot INFO: Successfully finished SinkhornTwoMarginalSolver with {'reg': 0.01}\n"
     ]
    },
    {
     "name": "stderr",
     "output_type": "stream",
     "text": [
      "INFO\tuot:experiment.py:run_on_problems()- Successfully finished SinkhornTwoMarginalSolver with {'reg': 0.01}\n"
     ]
    },
    {
     "name": "stdout",
     "output_type": "stream",
     "text": [
      "2025-07-16 18:57:45,073 uot.problems.iterator INFO: Generated problem <TwoMarginalProblem[] 16x16        with (<map object at 0x130868dc0>)>\n",
      "2025-07-16 18:57:45,073 uot.problems.iterator INFO: Generated problem <TwoMarginalProblem[] 16x16        with (<map object at 0x130868dc0>)>\n"
     ]
    },
    {
     "name": "stderr",
     "output_type": "stream",
     "text": [
      "INFO\tuot.problems.iterator:iterator.py:__next__()- Generated problem <TwoMarginalProblem[] 16x16        with (<map object at 0x130868dc0>)>\n"
     ]
    },
    {
     "name": "stdout",
     "output_type": "stream",
     "text": [
      "2025-07-16 18:57:45,081 uot INFO: Starting SinkhornTwoMarginalSolver with {'reg': 0.01} on <TwoMarginalProblem[] 16x16        with (<map object at 0x130bca2f0>)>\n"
     ]
    },
    {
     "name": "stderr",
     "output_type": "stream",
     "text": [
      "INFO\tuot:experiment.py:run_on_problems()- Starting SinkhornTwoMarginalSolver with {'reg': 0.01} on <TwoMarginalProblem[] 16x16        with (<map object at 0x130bca2f0>)>\n"
     ]
    },
    {
     "name": "stdout",
     "output_type": "stream",
     "text": [
      "<TwoMarginalProblem[] 16x16        with (<map object at 0x130768e50>)>\n",
      "[2.42353828e-11 8.91080187e-09 1.39215103e-06 9.24184278e-05\n",
      " 2.60695443e-03 3.12471893e-02 1.59144327e-01 3.44408602e-01\n",
      " 3.16708326e-01 1.23750694e-01 2.05465276e-02 1.44954573e-03\n",
      " 4.34538269e-05 5.53511711e-07 2.99590641e-09 6.89020759e-12]\n",
      "[2.2914280e-06 1.8656305e-05 1.2251979e-04 6.4900506e-04 2.7730081e-03\n",
      " 9.5568635e-03 2.6566898e-02 5.9569992e-02 1.0773962e-01 1.5717539e-01\n",
      " 1.8495023e-01 1.7554417e-01 1.3439378e-01 8.2991406e-02 4.1337889e-02\n",
      " 1.6608279e-02]\n",
      "2025-07-16 18:57:45,087 uot INFO: Successfully finished SinkhornTwoMarginalSolver with {'reg': 0.01}\n"
     ]
    },
    {
     "name": "stderr",
     "output_type": "stream",
     "text": [
      "INFO\tuot:experiment.py:run_on_problems()- Successfully finished SinkhornTwoMarginalSolver with {'reg': 0.01}\n",
      "Sinkhorn({'reg': 0.01}): 100%|██████████| 4/4 [00:01<00:00,  3.37it/s]"
     ]
    },
    {
     "name": "stdout",
     "output_type": "stream",
     "text": [
      "2025-07-16 18:57:45,115 uot INFO: Composing results...\n"
     ]
    },
    {
     "name": "stderr",
     "output_type": "stream",
     "text": [
      "\n",
      "INFO\tuot:runner.py:run_pipeline()- Composing results...\n"
     ]
    },
    {
     "data": {
      "application/vnd.microsoft.datawrangler.viewer.v0+json": {
       "columns": [
        {
         "name": "index",
         "rawType": "int64",
         "type": "integer"
        },
        {
         "name": "dataset",
         "rawType": "object",
         "type": "string"
        },
        {
         "name": "mu_size",
         "rawType": "int64",
         "type": "integer"
        },
        {
         "name": "nu_size",
         "rawType": "int64",
         "type": "integer"
        },
        {
         "name": "cost",
         "rawType": "object",
         "type": "string"
        },
        {
         "name": "status",
         "rawType": "object",
         "type": "string"
        },
        {
         "name": "name",
         "rawType": "object",
         "type": "string"
        },
        {
         "name": "reg",
         "rawType": "float64",
         "type": "float"
        }
       ],
       "ref": "70713f05-b3ea-4a10-948f-bc71ee2a8190",
       "rows": [
        [
         "0",
         "",
         "16",
         "16",
         "cost_euclid_squared",
         "success",
         "Sinkhorn",
         "0.01"
        ],
        [
         "1",
         "",
         "16",
         "16",
         "cost_euclid_squared",
         "success",
         "Sinkhorn",
         "0.01"
        ],
        [
         "2",
         "",
         "16",
         "16",
         "cost_euclid_squared",
         "success",
         "Sinkhorn",
         "0.01"
        ]
       ],
       "shape": {
        "columns": 7,
        "rows": 3
       }
      },
      "text/html": [
       "<div>\n",
       "<style scoped>\n",
       "    .dataframe tbody tr th:only-of-type {\n",
       "        vertical-align: middle;\n",
       "    }\n",
       "\n",
       "    .dataframe tbody tr th {\n",
       "        vertical-align: top;\n",
       "    }\n",
       "\n",
       "    .dataframe thead th {\n",
       "        text-align: right;\n",
       "    }\n",
       "</style>\n",
       "<table border=\"1\" class=\"dataframe\">\n",
       "  <thead>\n",
       "    <tr style=\"text-align: right;\">\n",
       "      <th></th>\n",
       "      <th>dataset</th>\n",
       "      <th>mu_size</th>\n",
       "      <th>nu_size</th>\n",
       "      <th>cost</th>\n",
       "      <th>status</th>\n",
       "      <th>name</th>\n",
       "      <th>reg</th>\n",
       "    </tr>\n",
       "  </thead>\n",
       "  <tbody>\n",
       "    <tr>\n",
       "      <th>0</th>\n",
       "      <td></td>\n",
       "      <td>16</td>\n",
       "      <td>16</td>\n",
       "      <td>cost_euclid_squared</td>\n",
       "      <td>success</td>\n",
       "      <td>Sinkhorn</td>\n",
       "      <td>0.01</td>\n",
       "    </tr>\n",
       "    <tr>\n",
       "      <th>1</th>\n",
       "      <td></td>\n",
       "      <td>16</td>\n",
       "      <td>16</td>\n",
       "      <td>cost_euclid_squared</td>\n",
       "      <td>success</td>\n",
       "      <td>Sinkhorn</td>\n",
       "      <td>0.01</td>\n",
       "    </tr>\n",
       "    <tr>\n",
       "      <th>2</th>\n",
       "      <td></td>\n",
       "      <td>16</td>\n",
       "      <td>16</td>\n",
       "      <td>cost_euclid_squared</td>\n",
       "      <td>success</td>\n",
       "      <td>Sinkhorn</td>\n",
       "      <td>0.01</td>\n",
       "    </tr>\n",
       "  </tbody>\n",
       "</table>\n",
       "</div>"
      ],
      "text/plain": [
       "  dataset  mu_size  nu_size                 cost   status      name   reg\n",
       "0               16       16  cost_euclid_squared  success  Sinkhorn  0.01\n",
       "1               16       16  cost_euclid_squared  success  Sinkhorn  0.01\n",
       "2               16       16  cost_euclid_squared  success  Sinkhorn  0.01"
      ]
     },
     "execution_count": 33,
     "metadata": {},
     "output_type": "execute_result"
    }
   ],
   "source": [
    "def solve_fn(problem, solver, measures, costs, **kwargs):\n",
    "    print(problem)\n",
    "    # print(np.mean(measures[0].to_discrete()[1]))\n",
    "    # print(np.mean(measures[1].to_discrete()[1]))\n",
    "    print(measures[0].to_discrete()[1])\n",
    "    print(measures[1].to_discrete()[1])\n",
    "    return {}\n",
    "\n",
    "\n",
    "exp = Experiment(\n",
    "    name=\"Testing Generators Reproducibility\",\n",
    "    solve_fn=solve_fn,\n",
    ")\n",
    "\n",
    "solvers = [\n",
    "    SolverConfig(\n",
    "        name=\"Sinkhorn\",\n",
    "        solver=SinkhornTwoMarginalSolver,\n",
    "        param_grid=[\n",
    "            {\n",
    "                \"reg\": 0.01,\n",
    "            }\n",
    "        ],\n",
    "        is_jit=True,\n",
    "    )\n",
    "]\n",
    "\n",
    "seed = 55\n",
    "iterators = [\n",
    "    OnlineProblemIterator(\n",
    "        GaussianMixtureGenerator(\n",
    "            name=\"\",\n",
    "            dim=1,\n",
    "            num_components=1,\n",
    "            n_points=16,\n",
    "            num_datasets=2,\n",
    "            borders=(-6, 6),\n",
    "            cost_fn=cost_euclid_squared,\n",
    "            use_jax=False,\n",
    "            seed=seed,\n",
    "        ),\n",
    "        num=2,\n",
    "        cache_gt=False,\n",
    "    ),\n",
    "    OnlineProblemIterator(\n",
    "        GaussianMixtureGenerator(\n",
    "            name=\"\",\n",
    "            dim=1,\n",
    "            num_components=1,\n",
    "            n_points=16,\n",
    "            num_datasets=2,\n",
    "            borders=(-6, 6),\n",
    "            cost_fn=cost_euclid_squared,\n",
    "            use_jax=False,\n",
    "            seed=seed,\n",
    "        ),\n",
    "        num=2,\n",
    "        cache_gt=False,\n",
    "    ),\n",
    "]\n",
    "\n",
    "run_pipeline(\n",
    "    experiment=exp,\n",
    "    solvers=solvers,\n",
    "    iterators=iterators,\n",
    "    folds=1,\n",
    "    progress=True,\n",
    ")"
   ]
  },
  {
   "cell_type": "code",
   "execution_count": null,
   "id": "0b325a43",
   "metadata": {},
   "outputs": [],
   "source": []
  }
 ],
 "metadata": {
  "kernelspec": {
   "display_name": "venv",
   "language": "python",
   "name": "python3"
  },
  "language_info": {
   "codemirror_mode": {
    "name": "ipython",
    "version": 3
   },
   "file_extension": ".py",
   "mimetype": "text/x-python",
   "name": "python",
   "nbconvert_exporter": "python",
   "pygments_lexer": "ipython3",
   "version": "3.10.14"
  }
 },
 "nbformat": 4,
 "nbformat_minor": 5
}
