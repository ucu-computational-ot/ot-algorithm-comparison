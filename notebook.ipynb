{
 "cells": [
  {
   "cell_type": "code",
   "id": "initial_id",
   "metadata": {
    "collapsed": true,
    "ExecuteTime": {
     "end_time": "2025-07-04T20:32:13.917555Z",
     "start_time": "2025-07-04T20:32:13.913560Z"
    }
   },
   "source": [
    "import sys\n",
    "\n",
    "repo_root = \"/home/druban/gpu_tests/ot-algorithm-comparison\"\n",
    "sys.path.insert(0, str(repo_root))"
   ],
   "outputs": [],
   "execution_count": 1
  },
  {
   "metadata": {
    "ExecuteTime": {
     "end_time": "2025-07-04T20:32:15.178064Z",
     "start_time": "2025-07-04T20:32:13.955085Z"
    }
   },
   "cell_type": "code",
   "source": [
    "from uot.solvers.pdlp import _solve_pdlp\n",
    "from uot.algorithms.rapdhg import create_ot_problem, raPDHG"
   ],
   "id": "696b9c8544b05d42",
   "outputs": [],
   "execution_count": 2
  },
  {
   "metadata": {
    "ExecuteTime": {
     "end_time": "2025-07-04T20:32:15.375490Z",
     "start_time": "2025-07-04T20:32:15.373811Z"
    }
   },
   "cell_type": "code",
   "source": [
    "import jax\n",
    "jax.config.update(\"jax_enable_x64\", True)"
   ],
   "id": "d28af7cb0ce48020",
   "outputs": [],
   "execution_count": 3
  },
  {
   "metadata": {
    "ExecuteTime": {
     "end_time": "2025-07-04T20:32:15.426949Z",
     "start_time": "2025-07-04T20:32:15.415487Z"
    }
   },
   "cell_type": "code",
   "source": "from uot.problems.store import ProblemStore",
   "id": "bb9135affb0f0333",
   "outputs": [],
   "execution_count": 4
  },
  {
   "metadata": {
    "ExecuteTime": {
     "end_time": "2025-07-04T20:32:15.466047Z",
     "start_time": "2025-07-04T20:32:15.460120Z"
    }
   },
   "cell_type": "code",
   "source": "store = ProblemStore(\"/home/druban/gpu_tests/ot-algorithm-comparison/datasets/synthetic\")",
   "id": "ebf816e5b4ea9567",
   "outputs": [],
   "execution_count": 5
  },
  {
   "metadata": {
    "ExecuteTime": {
     "end_time": "2025-07-04T20:32:20.569227Z",
     "start_time": "2025-07-04T20:32:15.504730Z"
    }
   },
   "cell_type": "code",
   "source": "problem = store.load(\"/home/druban/gpu_tests/ot-algorithm-comparison/datasets/synthetic/2D-gaussians-1c-128p/0aba4e911207aa09d12c602052d73f1ba0129fe0.pkl\")",
   "id": "bd71aa93d46b8432",
   "outputs": [
    {
     "name": "stderr",
     "output_type": "stream",
     "text": [
      "2025-07-04 16:32:16.253807: E external/local_xla/xla/stream_executor/cuda/cuda_fft.cc:467] Unable to register cuFFT factory: Attempting to register factory for plugin cuFFT when one has already been registered\n",
      "WARNING: All log messages before absl::InitializeLog() is called are written to STDERR\n",
      "E0000 00:00:1751661136.270700 1517587 cuda_dnn.cc:8579] Unable to register cuDNN factory: Attempting to register factory for plugin cuDNN when one has already been registered\n",
      "E0000 00:00:1751661136.275905 1517587 cuda_blas.cc:1407] Unable to register cuBLAS factory: Attempting to register factory for plugin cuBLAS when one has already been registered\n",
      "W0000 00:00:1751661136.289184 1517587 computation_placer.cc:177] computation placer already registered. Please check linkage and avoid linking the same target more than once.\n",
      "W0000 00:00:1751661136.289199 1517587 computation_placer.cc:177] computation placer already registered. Please check linkage and avoid linking the same target more than once.\n",
      "W0000 00:00:1751661136.289201 1517587 computation_placer.cc:177] computation placer already registered. Please check linkage and avoid linking the same target more than once.\n",
      "W0000 00:00:1751661136.289202 1517587 computation_placer.cc:177] computation placer already registered. Please check linkage and avoid linking the same target more than once.\n"
     ]
    }
   ],
   "execution_count": 6
  },
  {
   "metadata": {
    "ExecuteTime": {
     "end_time": "2025-07-04T20:32:20.580808Z",
     "start_time": "2025-07-04T20:32:20.578872Z"
    }
   },
   "cell_type": "code",
   "source": [
    "costs = problem.get_costs()\n",
    "marginals = problem.get_marginals()"
   ],
   "id": "3d11b1891fca5096",
   "outputs": [],
   "execution_count": 7
  },
  {
   "metadata": {
    "ExecuteTime": {
     "end_time": "2025-07-04T20:27:40.561805Z",
     "start_time": "2025-07-04T20:27:40.440179Z"
    }
   },
   "cell_type": "code",
   "source": [
    "problem = create_ot_problem(\n",
    "    C=costs[0],\n",
    "    mu=marginals[0].to_discrete()[1],\n",
    "    nu=marginals[1].to_discrete()[1],\n",
    ")"
   ],
   "id": "5edb3e87a0028c0e",
   "outputs": [],
   "execution_count": 8
  },
  {
   "metadata": {
    "ExecuteTime": {
     "end_time": "2025-07-04T20:16:34.397225Z",
     "start_time": "2025-07-04T20:16:33.182146Z"
    }
   },
   "cell_type": "code",
   "source": [
    "solver = raPDHG(\n",
    "    verbose=True,\n",
    "    jit=True,\n",
    "    reg=1.0,\n",
    "    eps_abs=1e-5,\n",
    "    eps_rel=1e-5,\n",
    "    iteration_limit=50000,\n",
    "    termination_evaluation_frequency=64,\n",
    ")\n",
    "\n",
    "optimizer = jax.jit(solver.optimize, static_argnums=(1,))\n",
    "optimizer_lower = optimizer.lower(problem, dim=problem.n)\n",
    "compiled_optimizer = optimizer_lower.compile()"
   ],
   "id": "9373dd6c169c9f5a",
   "outputs": [],
   "execution_count": 76
  },
  {
   "metadata": {
    "ExecuteTime": {
     "end_time": "2025-07-04T20:17:28.059212Z",
     "start_time": "2025-07-04T20:16:35.755801Z"
    }
   },
   "cell_type": "code",
   "source": [
    "result, _ = compiled_optimizer(problem)\n",
    "P_pdlp = result.current_primal_solution"
   ],
   "id": "21513e360cbbc5a5",
   "outputs": [
    {
     "name": "stdout",
     "output_type": "stream",
     "text": [
      "2025-07-04 16:16:35,767 uot.algorithms.rapdhg.solver_log INFO: runtime | residuals                 | solution information      | relative residuals      |\n"
     ]
    },
    {
     "name": "stderr",
     "output_type": "stream",
     "text": [
      "runtime | residuals                 | solution information      | relative residuals      |\n"
     ]
    },
    {
     "name": "stdout",
     "output_type": "stream",
     "text": [
      "2025-07-04 16:16:35,768 uot.algorithms.rapdhg.solver_log INFO: #iter   | pr_norm  du_norm  gap     | pr_obj   du_obj   pr_lin   | rel_pr  rel_du  rel_gap |\n"
     ]
    },
    {
     "name": "stderr",
     "output_type": "stream",
     "text": [
      "#iter   | pr_norm  du_norm  gap     | pr_obj   du_obj   pr_lin   | rel_pr  rel_du  rel_gap |\n"
     ]
    },
    {
     "name": "stdout",
     "output_type": "stream",
     "text": [
      "2025-07-04 16:16:35,950 uot.algorithms.rapdhg.solver_log INFO:       0 | 4.05e-02  0.00e+00  0.00e+00 | 0.00e+00  0.00e+00 0.00e+00 | 3.90e-02 0.00e+00 0.00e+00 | 1.0000e+00\n"
     ]
    },
    {
     "name": "stderr",
     "output_type": "stream",
     "text": [
      "      0 | 4.05e-02  0.00e+00  0.00e+00 | 0.00e+00  0.00e+00 0.00e+00 | 3.90e-02 0.00e+00 0.00e+00 | 1.0000e+00\n"
     ]
    },
    {
     "name": "stdout",
     "output_type": "stream",
     "text": [
      "2025-07-04 16:16:36,119 uot.algorithms.rapdhg.solver_log INFO:       0 | 4.05e-02  0.00e+00  0.00e+00 | 0.00e+00  0.00e+00 0.00e+00 | 3.90e-02 0.00e+00 0.00e+00 | 1.0000e+00\n"
     ]
    },
    {
     "name": "stderr",
     "output_type": "stream",
     "text": [
      "      0 | 4.05e-02  0.00e+00  0.00e+00 | 0.00e+00  0.00e+00 0.00e+00 | 3.90e-02 0.00e+00 0.00e+00 | 1.0000e+00\n"
     ]
    },
    {
     "name": "stdout",
     "output_type": "stream",
     "text": [
      "2025-07-04 16:16:37,040 uot.algorithms.rapdhg.solver_log INFO:      64 | 2.66e-02  0.00e+00  0.00e+00 | 2.77e-04  0.00e+00 2.64e-04 | 2.56e-02 0.00e+00 0.00e+00 | 1.0000e+00\n"
     ]
    },
    {
     "name": "stderr",
     "output_type": "stream",
     "text": [
      "     64 | 2.66e-02  0.00e+00  0.00e+00 | 2.77e-04  0.00e+00 2.64e-04 | 2.56e-02 0.00e+00 0.00e+00 | 1.0000e+00\n"
     ]
    },
    {
     "name": "stdout",
     "output_type": "stream",
     "text": [
      "2025-07-04 16:16:37,954 uot.algorithms.rapdhg.solver_log INFO:     128 | 2.23e-02  0.00e+00  0.00e+00 | 2.61e-03  0.00e+00 2.59e-03 | 2.14e-02 0.00e+00 0.00e+00 | 1.0000e+00\n"
     ]
    },
    {
     "name": "stderr",
     "output_type": "stream",
     "text": [
      "    128 | 2.23e-02  0.00e+00  0.00e+00 | 2.61e-03  0.00e+00 2.59e-03 | 2.14e-02 0.00e+00 0.00e+00 | 1.0000e+00\n"
     ]
    },
    {
     "name": "stdout",
     "output_type": "stream",
     "text": [
      "2025-07-04 16:16:38,874 uot.algorithms.rapdhg.solver_log INFO:     192 | 2.01e-02  0.00e+00  0.00e+00 | 9.30e-03  0.00e+00 9.29e-03 | 1.94e-02 0.00e+00 0.00e+00 | 1.0000e+00\n"
     ]
    },
    {
     "name": "stderr",
     "output_type": "stream",
     "text": [
      "    192 | 2.01e-02  0.00e+00  0.00e+00 | 9.30e-03  0.00e+00 9.29e-03 | 1.94e-02 0.00e+00 0.00e+00 | 1.0000e+00\n"
     ]
    },
    {
     "name": "stdout",
     "output_type": "stream",
     "text": [
      "2025-07-04 16:16:39,771 uot.algorithms.rapdhg.solver_log INFO:     256 | 1.75e-02  0.00e+00  0.00e+00 | 1.51e-02  0.00e+00 1.51e-02 | 1.68e-02 0.00e+00 0.00e+00 | 1.0000e+00\n"
     ]
    },
    {
     "name": "stderr",
     "output_type": "stream",
     "text": [
      "    256 | 1.75e-02  0.00e+00  0.00e+00 | 1.51e-02  0.00e+00 1.51e-02 | 1.68e-02 0.00e+00 0.00e+00 | 1.0000e+00\n"
     ]
    },
    {
     "name": "stdout",
     "output_type": "stream",
     "text": [
      "2025-07-04 16:16:40,692 uot.algorithms.rapdhg.solver_log INFO:     320 | 1.38e-02  0.00e+00  0.00e+00 | 3.84e-02  0.00e+00 3.84e-02 | 1.33e-02 0.00e+00 0.00e+00 | 1.0000e+00\n"
     ]
    },
    {
     "name": "stderr",
     "output_type": "stream",
     "text": [
      "    320 | 1.38e-02  0.00e+00  0.00e+00 | 3.84e-02  0.00e+00 3.84e-02 | 1.33e-02 0.00e+00 0.00e+00 | 1.0000e+00\n"
     ]
    },
    {
     "name": "stdout",
     "output_type": "stream",
     "text": [
      "2025-07-04 16:16:41,592 uot.algorithms.rapdhg.solver_log INFO:     384 | 1.12e-02  0.00e+00  0.00e+00 | 5.63e-02  0.00e+00 5.63e-02 | 1.07e-02 0.00e+00 0.00e+00 | 1.0000e+00\n"
     ]
    },
    {
     "name": "stderr",
     "output_type": "stream",
     "text": [
      "    384 | 1.12e-02  0.00e+00  0.00e+00 | 5.63e-02  0.00e+00 5.63e-02 | 1.07e-02 0.00e+00 0.00e+00 | 1.0000e+00\n"
     ]
    },
    {
     "name": "stdout",
     "output_type": "stream",
     "text": [
      "2025-07-04 16:16:42,504 uot.algorithms.rapdhg.solver_log INFO:     448 | 9.59e-03  0.00e+00  0.00e+00 | 6.93e-02  0.00e+00 6.93e-02 | 9.22e-03 0.00e+00 0.00e+00 | 1.0000e+00\n"
     ]
    },
    {
     "name": "stderr",
     "output_type": "stream",
     "text": [
      "    448 | 9.59e-03  0.00e+00  0.00e+00 | 6.93e-02  0.00e+00 6.93e-02 | 9.22e-03 0.00e+00 0.00e+00 | 1.0000e+00\n"
     ]
    },
    {
     "name": "stdout",
     "output_type": "stream",
     "text": [
      "2025-07-04 16:16:43,425 uot.algorithms.rapdhg.solver_log INFO:     512 | 5.39e-03  0.00e+00  0.00e+00 | 1.12e-01  0.00e+00 1.12e-01 | 5.18e-03 0.00e+00 0.00e+00 | 1.0000e+00\n"
     ]
    },
    {
     "name": "stderr",
     "output_type": "stream",
     "text": [
      "    512 | 5.39e-03  0.00e+00  0.00e+00 | 1.12e-01  0.00e+00 1.12e-01 | 5.18e-03 0.00e+00 0.00e+00 | 1.0000e+00\n"
     ]
    },
    {
     "name": "stdout",
     "output_type": "stream",
     "text": [
      "2025-07-04 16:16:44,348 uot.algorithms.rapdhg.solver_log INFO:     576 | 2.87e-03  0.00e+00  0.00e+00 | 1.36e-01  0.00e+00 1.36e-01 | 2.76e-03 0.00e+00 0.00e+00 | 1.0000e+00\n"
     ]
    },
    {
     "name": "stderr",
     "output_type": "stream",
     "text": [
      "    576 | 2.87e-03  0.00e+00  0.00e+00 | 1.36e-01  0.00e+00 1.36e-01 | 2.76e-03 0.00e+00 0.00e+00 | 1.0000e+00\n"
     ]
    },
    {
     "name": "stdout",
     "output_type": "stream",
     "text": [
      "2025-07-04 16:16:45,263 uot.algorithms.rapdhg.solver_log INFO:     640 | 2.05e-03  0.00e+00  0.00e+00 | 1.46e-01  0.00e+00 1.46e-01 | 1.97e-03 0.00e+00 0.00e+00 | 1.0000e+00\n"
     ]
    },
    {
     "name": "stderr",
     "output_type": "stream",
     "text": [
      "    640 | 2.05e-03  0.00e+00  0.00e+00 | 1.46e-01  0.00e+00 1.46e-01 | 1.97e-03 0.00e+00 0.00e+00 | 1.0000e+00\n"
     ]
    },
    {
     "name": "stdout",
     "output_type": "stream",
     "text": [
      "2025-07-04 16:16:46,180 uot.algorithms.rapdhg.solver_log INFO:     704 | 1.56e-03  0.00e+00  0.00e+00 | 1.53e-01  0.00e+00 1.53e-01 | 1.50e-03 0.00e+00 0.00e+00 | 1.0000e+00\n"
     ]
    },
    {
     "name": "stderr",
     "output_type": "stream",
     "text": [
      "    704 | 1.56e-03  0.00e+00  0.00e+00 | 1.53e-01  0.00e+00 1.53e-01 | 1.50e-03 0.00e+00 0.00e+00 | 1.0000e+00\n"
     ]
    },
    {
     "name": "stdout",
     "output_type": "stream",
     "text": [
      "2025-07-04 16:16:47,092 uot.algorithms.rapdhg.solver_log INFO:     768 | 5.53e-04  0.00e+00  0.00e+00 | 1.66e-01  0.00e+00 1.66e-01 | 5.32e-04 0.00e+00 0.00e+00 | 1.0000e+00\n"
     ]
    },
    {
     "name": "stderr",
     "output_type": "stream",
     "text": [
      "    768 | 5.53e-04  0.00e+00  0.00e+00 | 1.66e-01  0.00e+00 1.66e-01 | 5.32e-04 0.00e+00 0.00e+00 | 1.0000e+00\n"
     ]
    },
    {
     "name": "stdout",
     "output_type": "stream",
     "text": [
      "2025-07-04 16:16:48,008 uot.algorithms.rapdhg.solver_log INFO:     832 | 3.84e-04  0.00e+00  0.00e+00 | 1.69e-01  0.00e+00 1.69e-01 | 3.69e-04 0.00e+00 0.00e+00 | 1.0000e+00\n"
     ]
    },
    {
     "name": "stderr",
     "output_type": "stream",
     "text": [
      "    832 | 3.84e-04  0.00e+00  0.00e+00 | 1.69e-01  0.00e+00 1.69e-01 | 3.69e-04 0.00e+00 0.00e+00 | 1.0000e+00\n"
     ]
    },
    {
     "name": "stdout",
     "output_type": "stream",
     "text": [
      "2025-07-04 16:16:48,918 uot.algorithms.rapdhg.solver_log INFO:     896 | 3.18e-04  0.00e+00  0.00e+00 | 1.70e-01  0.00e+00 1.70e-01 | 3.06e-04 0.00e+00 0.00e+00 | 1.0000e+00\n"
     ]
    },
    {
     "name": "stderr",
     "output_type": "stream",
     "text": [
      "    896 | 3.18e-04  0.00e+00  0.00e+00 | 1.70e-01  0.00e+00 1.70e-01 | 3.06e-04 0.00e+00 0.00e+00 | 1.0000e+00\n"
     ]
    },
    {
     "name": "stdout",
     "output_type": "stream",
     "text": [
      "2025-07-04 16:16:49,826 uot.algorithms.rapdhg.solver_log INFO:     960 | 2.71e-04  0.00e+00  0.00e+00 | 1.71e-01  0.00e+00 1.71e-01 | 2.61e-04 0.00e+00 0.00e+00 | 1.0000e+00\n"
     ]
    },
    {
     "name": "stderr",
     "output_type": "stream",
     "text": [
      "    960 | 2.71e-04  0.00e+00  0.00e+00 | 1.71e-01  0.00e+00 1.71e-01 | 2.61e-04 0.00e+00 0.00e+00 | 1.0000e+00\n"
     ]
    },
    {
     "name": "stdout",
     "output_type": "stream",
     "text": [
      "2025-07-04 16:16:50,737 uot.algorithms.rapdhg.solver_log INFO:    1024 | 2.33e-04  0.00e+00  0.00e+00 | 1.71e-01  0.00e+00 1.71e-01 | 2.24e-04 0.00e+00 0.00e+00 | 1.0000e+00\n"
     ]
    },
    {
     "name": "stderr",
     "output_type": "stream",
     "text": [
      "   1024 | 2.33e-04  0.00e+00  0.00e+00 | 1.71e-01  0.00e+00 1.71e-01 | 2.24e-04 0.00e+00 0.00e+00 | 1.0000e+00\n"
     ]
    },
    {
     "name": "stdout",
     "output_type": "stream",
     "text": [
      "2025-07-04 16:16:51,636 uot.algorithms.rapdhg.solver_log INFO:    1088 | 2.11e-04  0.00e+00  0.00e+00 | 1.72e-01  0.00e+00 1.72e-01 | 2.02e-04 0.00e+00 0.00e+00 | 1.0000e+00\n"
     ]
    },
    {
     "name": "stderr",
     "output_type": "stream",
     "text": [
      "   1088 | 2.11e-04  0.00e+00  0.00e+00 | 1.72e-01  0.00e+00 1.72e-01 | 2.02e-04 0.00e+00 0.00e+00 | 1.0000e+00\n"
     ]
    },
    {
     "name": "stdout",
     "output_type": "stream",
     "text": [
      "2025-07-04 16:16:52,546 uot.algorithms.rapdhg.solver_log INFO:    1152 | 1.91e-04  0.00e+00  0.00e+00 | 1.72e-01  0.00e+00 1.72e-01 | 1.84e-04 0.00e+00 0.00e+00 | 1.0000e+00\n"
     ]
    },
    {
     "name": "stderr",
     "output_type": "stream",
     "text": [
      "   1152 | 1.91e-04  0.00e+00  0.00e+00 | 1.72e-01  0.00e+00 1.72e-01 | 1.84e-04 0.00e+00 0.00e+00 | 1.0000e+00\n"
     ]
    },
    {
     "name": "stdout",
     "output_type": "stream",
     "text": [
      "2025-07-04 16:16:53,471 uot.algorithms.rapdhg.solver_log INFO:    1216 | 9.57e-05  0.00e+00  0.00e+00 | 1.73e-01  0.00e+00 1.73e-01 | 9.19e-05 0.00e+00 0.00e+00 | 1.0000e+00\n"
     ]
    },
    {
     "name": "stderr",
     "output_type": "stream",
     "text": [
      "   1216 | 9.57e-05  0.00e+00  0.00e+00 | 1.73e-01  0.00e+00 1.73e-01 | 9.19e-05 0.00e+00 0.00e+00 | 1.0000e+00\n"
     ]
    },
    {
     "name": "stdout",
     "output_type": "stream",
     "text": [
      "2025-07-04 16:16:54,381 uot.algorithms.rapdhg.solver_log INFO:    1280 | 8.63e-05  0.00e+00  0.00e+00 | 1.74e-01  0.00e+00 1.74e-01 | 8.30e-05 0.00e+00 0.00e+00 | 1.0000e+00\n"
     ]
    },
    {
     "name": "stderr",
     "output_type": "stream",
     "text": [
      "   1280 | 8.63e-05  0.00e+00  0.00e+00 | 1.74e-01  0.00e+00 1.74e-01 | 8.30e-05 0.00e+00 0.00e+00 | 1.0000e+00\n"
     ]
    },
    {
     "name": "stdout",
     "output_type": "stream",
     "text": [
      "2025-07-04 16:16:55,300 uot.algorithms.rapdhg.solver_log INFO:    1344 | 8.03e-05  0.00e+00  0.00e+00 | 1.74e-01  0.00e+00 1.74e-01 | 7.71e-05 0.00e+00 0.00e+00 | 1.0000e+00\n"
     ]
    },
    {
     "name": "stderr",
     "output_type": "stream",
     "text": [
      "   1344 | 8.03e-05  0.00e+00  0.00e+00 | 1.74e-01  0.00e+00 1.74e-01 | 7.71e-05 0.00e+00 0.00e+00 | 1.0000e+00\n"
     ]
    },
    {
     "name": "stdout",
     "output_type": "stream",
     "text": [
      "2025-07-04 16:16:56,227 uot.algorithms.rapdhg.solver_log INFO:    1408 | 6.47e-05  0.00e+00  0.00e+00 | 1.74e-01  0.00e+00 1.74e-01 | 6.21e-05 0.00e+00 0.00e+00 | 1.0000e+00\n"
     ]
    },
    {
     "name": "stderr",
     "output_type": "stream",
     "text": [
      "   1408 | 6.47e-05  0.00e+00  0.00e+00 | 1.74e-01  0.00e+00 1.74e-01 | 6.21e-05 0.00e+00 0.00e+00 | 1.0000e+00\n"
     ]
    },
    {
     "name": "stdout",
     "output_type": "stream",
     "text": [
      "2025-07-04 16:16:57,139 uot.algorithms.rapdhg.solver_log INFO:    1472 | 5.91e-05  0.00e+00  0.00e+00 | 1.74e-01  0.00e+00 1.74e-01 | 5.68e-05 0.00e+00 0.00e+00 | 1.0000e+00\n"
     ]
    },
    {
     "name": "stderr",
     "output_type": "stream",
     "text": [
      "   1472 | 5.91e-05  0.00e+00  0.00e+00 | 1.74e-01  0.00e+00 1.74e-01 | 5.68e-05 0.00e+00 0.00e+00 | 1.0000e+00\n"
     ]
    },
    {
     "name": "stdout",
     "output_type": "stream",
     "text": [
      "2025-07-04 16:16:58,044 uot.algorithms.rapdhg.solver_log INFO:    1536 | 5.59e-05  0.00e+00  0.00e+00 | 1.74e-01  0.00e+00 1.74e-01 | 5.37e-05 0.00e+00 0.00e+00 | 1.0000e+00\n"
     ]
    },
    {
     "name": "stderr",
     "output_type": "stream",
     "text": [
      "   1536 | 5.59e-05  0.00e+00  0.00e+00 | 1.74e-01  0.00e+00 1.74e-01 | 5.37e-05 0.00e+00 0.00e+00 | 1.0000e+00\n"
     ]
    },
    {
     "name": "stdout",
     "output_type": "stream",
     "text": [
      "2025-07-04 16:16:58,969 uot.algorithms.rapdhg.solver_log INFO:    1600 | 4.62e-05  0.00e+00  0.00e+00 | 1.74e-01  0.00e+00 1.74e-01 | 4.44e-05 0.00e+00 0.00e+00 | 1.0000e+00\n"
     ]
    },
    {
     "name": "stderr",
     "output_type": "stream",
     "text": [
      "   1600 | 4.62e-05  0.00e+00  0.00e+00 | 1.74e-01  0.00e+00 1.74e-01 | 4.44e-05 0.00e+00 0.00e+00 | 1.0000e+00\n"
     ]
    },
    {
     "name": "stdout",
     "output_type": "stream",
     "text": [
      "2025-07-04 16:16:59,881 uot.algorithms.rapdhg.solver_log INFO:    1664 | 4.27e-05  0.00e+00  0.00e+00 | 1.74e-01  0.00e+00 1.74e-01 | 4.10e-05 0.00e+00 0.00e+00 | 1.0000e+00\n"
     ]
    },
    {
     "name": "stderr",
     "output_type": "stream",
     "text": [
      "   1664 | 4.27e-05  0.00e+00  0.00e+00 | 1.74e-01  0.00e+00 1.74e-01 | 4.10e-05 0.00e+00 0.00e+00 | 1.0000e+00\n"
     ]
    },
    {
     "name": "stdout",
     "output_type": "stream",
     "text": [
      "2025-07-04 16:17:00,779 uot.algorithms.rapdhg.solver_log INFO:    1728 | 4.03e-05  0.00e+00  0.00e+00 | 1.74e-01  0.00e+00 1.74e-01 | 3.88e-05 0.00e+00 0.00e+00 | 1.0000e+00\n"
     ]
    },
    {
     "name": "stderr",
     "output_type": "stream",
     "text": [
      "   1728 | 4.03e-05  0.00e+00  0.00e+00 | 1.74e-01  0.00e+00 1.74e-01 | 3.88e-05 0.00e+00 0.00e+00 | 1.0000e+00\n"
     ]
    },
    {
     "name": "stdout",
     "output_type": "stream",
     "text": [
      "2025-07-04 16:17:01,712 uot.algorithms.rapdhg.solver_log INFO:    1792 | 3.43e-05  0.00e+00  0.00e+00 | 1.74e-01  0.00e+00 1.74e-01 | 3.30e-05 0.00e+00 0.00e+00 | 1.0000e+00\n"
     ]
    },
    {
     "name": "stderr",
     "output_type": "stream",
     "text": [
      "   1792 | 3.43e-05  0.00e+00  0.00e+00 | 1.74e-01  0.00e+00 1.74e-01 | 3.30e-05 0.00e+00 0.00e+00 | 1.0000e+00\n"
     ]
    },
    {
     "name": "stdout",
     "output_type": "stream",
     "text": [
      "2025-07-04 16:17:02,634 uot.algorithms.rapdhg.solver_log INFO:    1856 | 3.20e-05  0.00e+00  0.00e+00 | 1.74e-01  0.00e+00 1.74e-01 | 3.08e-05 0.00e+00 0.00e+00 | 1.0000e+00\n"
     ]
    },
    {
     "name": "stderr",
     "output_type": "stream",
     "text": [
      "   1856 | 3.20e-05  0.00e+00  0.00e+00 | 1.74e-01  0.00e+00 1.74e-01 | 3.08e-05 0.00e+00 0.00e+00 | 1.0000e+00\n"
     ]
    },
    {
     "name": "stdout",
     "output_type": "stream",
     "text": [
      "2025-07-04 16:17:03,553 uot.algorithms.rapdhg.solver_log INFO:    1920 | 3.03e-05  0.00e+00  0.00e+00 | 1.74e-01  0.00e+00 1.74e-01 | 2.91e-05 0.00e+00 0.00e+00 | 1.0000e+00\n"
     ]
    },
    {
     "name": "stderr",
     "output_type": "stream",
     "text": [
      "   1920 | 3.03e-05  0.00e+00  0.00e+00 | 1.74e-01  0.00e+00 1.74e-01 | 2.91e-05 0.00e+00 0.00e+00 | 1.0000e+00\n"
     ]
    },
    {
     "name": "stdout",
     "output_type": "stream",
     "text": [
      "2025-07-04 16:17:04,468 uot.algorithms.rapdhg.solver_log INFO:    1984 | 2.64e-05  0.00e+00  0.00e+00 | 1.74e-01  0.00e+00 1.74e-01 | 2.53e-05 0.00e+00 0.00e+00 | 1.0000e+00\n"
     ]
    },
    {
     "name": "stderr",
     "output_type": "stream",
     "text": [
      "   1984 | 2.64e-05  0.00e+00  0.00e+00 | 1.74e-01  0.00e+00 1.74e-01 | 2.53e-05 0.00e+00 0.00e+00 | 1.0000e+00\n"
     ]
    },
    {
     "name": "stdout",
     "output_type": "stream",
     "text": [
      "2025-07-04 16:17:05,394 uot.algorithms.rapdhg.solver_log INFO:    2048 | 2.51e-05  0.00e+00  0.00e+00 | 1.74e-01  0.00e+00 1.74e-01 | 2.41e-05 0.00e+00 0.00e+00 | 1.0000e+00\n"
     ]
    },
    {
     "name": "stderr",
     "output_type": "stream",
     "text": [
      "   2048 | 2.51e-05  0.00e+00  0.00e+00 | 1.74e-01  0.00e+00 1.74e-01 | 2.41e-05 0.00e+00 0.00e+00 | 1.0000e+00\n"
     ]
    },
    {
     "name": "stdout",
     "output_type": "stream",
     "text": [
      "2025-07-04 16:17:06,304 uot.algorithms.rapdhg.solver_log INFO:    2112 | 2.39e-05  0.00e+00  0.00e+00 | 1.74e-01  0.00e+00 1.74e-01 | 2.30e-05 0.00e+00 0.00e+00 | 1.0000e+00\n"
     ]
    },
    {
     "name": "stderr",
     "output_type": "stream",
     "text": [
      "   2112 | 2.39e-05  0.00e+00  0.00e+00 | 1.74e-01  0.00e+00 1.74e-01 | 2.30e-05 0.00e+00 0.00e+00 | 1.0000e+00\n"
     ]
    },
    {
     "name": "stdout",
     "output_type": "stream",
     "text": [
      "2025-07-04 16:17:07,223 uot.algorithms.rapdhg.solver_log INFO:    2176 | 2.29e-05  0.00e+00  0.00e+00 | 1.74e-01  0.00e+00 1.74e-01 | 2.20e-05 0.00e+00 0.00e+00 | 1.0000e+00\n"
     ]
    },
    {
     "name": "stderr",
     "output_type": "stream",
     "text": [
      "   2176 | 2.29e-05  0.00e+00  0.00e+00 | 1.74e-01  0.00e+00 1.74e-01 | 2.20e-05 0.00e+00 0.00e+00 | 1.0000e+00\n"
     ]
    },
    {
     "name": "stdout",
     "output_type": "stream",
     "text": [
      "2025-07-04 16:17:08,133 uot.algorithms.rapdhg.solver_log INFO:    2240 | 2.20e-05  0.00e+00  0.00e+00 | 1.74e-01  0.00e+00 1.74e-01 | 2.12e-05 0.00e+00 0.00e+00 | 1.0000e+00\n"
     ]
    },
    {
     "name": "stderr",
     "output_type": "stream",
     "text": [
      "   2240 | 2.20e-05  0.00e+00  0.00e+00 | 1.74e-01  0.00e+00 1.74e-01 | 2.12e-05 0.00e+00 0.00e+00 | 1.0000e+00\n"
     ]
    },
    {
     "name": "stdout",
     "output_type": "stream",
     "text": [
      "2025-07-04 16:17:09,049 uot.algorithms.rapdhg.solver_log INFO:    2304 | 1.88e-05  0.00e+00  0.00e+00 | 1.74e-01  0.00e+00 1.74e-01 | 1.80e-05 0.00e+00 0.00e+00 | 1.0000e+00\n"
     ]
    },
    {
     "name": "stderr",
     "output_type": "stream",
     "text": [
      "   2304 | 1.88e-05  0.00e+00  0.00e+00 | 1.74e-01  0.00e+00 1.74e-01 | 1.80e-05 0.00e+00 0.00e+00 | 1.0000e+00\n"
     ]
    },
    {
     "name": "stdout",
     "output_type": "stream",
     "text": [
      "2025-07-04 16:17:09,963 uot.algorithms.rapdhg.solver_log INFO:    2368 | 1.79e-05  0.00e+00  0.00e+00 | 1.74e-01  0.00e+00 1.74e-01 | 1.72e-05 0.00e+00 0.00e+00 | 1.0000e+00\n"
     ]
    },
    {
     "name": "stderr",
     "output_type": "stream",
     "text": [
      "   2368 | 1.79e-05  0.00e+00  0.00e+00 | 1.74e-01  0.00e+00 1.74e-01 | 1.72e-05 0.00e+00 0.00e+00 | 1.0000e+00\n"
     ]
    },
    {
     "name": "stdout",
     "output_type": "stream",
     "text": [
      "2025-07-04 16:17:10,870 uot.algorithms.rapdhg.solver_log INFO:    2432 | 1.73e-05  0.00e+00  0.00e+00 | 1.74e-01  0.00e+00 1.74e-01 | 1.66e-05 0.00e+00 0.00e+00 | 1.0000e+00\n"
     ]
    },
    {
     "name": "stderr",
     "output_type": "stream",
     "text": [
      "   2432 | 1.73e-05  0.00e+00  0.00e+00 | 1.74e-01  0.00e+00 1.74e-01 | 1.66e-05 0.00e+00 0.00e+00 | 1.0000e+00\n"
     ]
    },
    {
     "name": "stdout",
     "output_type": "stream",
     "text": [
      "2025-07-04 16:17:11,775 uot.algorithms.rapdhg.solver_log INFO:    2496 | 1.67e-05  0.00e+00  0.00e+00 | 1.74e-01  0.00e+00 1.74e-01 | 1.60e-05 0.00e+00 0.00e+00 | 1.0000e+00\n"
     ]
    },
    {
     "name": "stderr",
     "output_type": "stream",
     "text": [
      "   2496 | 1.67e-05  0.00e+00  0.00e+00 | 1.74e-01  0.00e+00 1.74e-01 | 1.60e-05 0.00e+00 0.00e+00 | 1.0000e+00\n"
     ]
    },
    {
     "name": "stdout",
     "output_type": "stream",
     "text": [
      "2025-07-04 16:17:12,689 uot.algorithms.rapdhg.solver_log INFO:    2560 | 1.62e-05  0.00e+00  0.00e+00 | 1.74e-01  0.00e+00 1.74e-01 | 1.56e-05 0.00e+00 0.00e+00 | 1.0000e+00\n"
     ]
    },
    {
     "name": "stderr",
     "output_type": "stream",
     "text": [
      "   2560 | 1.62e-05  0.00e+00  0.00e+00 | 1.74e-01  0.00e+00 1.74e-01 | 1.56e-05 0.00e+00 0.00e+00 | 1.0000e+00\n"
     ]
    },
    {
     "name": "stdout",
     "output_type": "stream",
     "text": [
      "2025-07-04 16:17:13,600 uot.algorithms.rapdhg.solver_log INFO:    2624 | 1.57e-05  0.00e+00  0.00e+00 | 1.74e-01  0.00e+00 1.74e-01 | 1.51e-05 0.00e+00 0.00e+00 | 1.0000e+00\n"
     ]
    },
    {
     "name": "stderr",
     "output_type": "stream",
     "text": [
      "   2624 | 1.57e-05  0.00e+00  0.00e+00 | 1.74e-01  0.00e+00 1.74e-01 | 1.51e-05 0.00e+00 0.00e+00 | 1.0000e+00\n"
     ]
    },
    {
     "name": "stdout",
     "output_type": "stream",
     "text": [
      "2025-07-04 16:17:14,505 uot.algorithms.rapdhg.solver_log INFO:    2688 | 1.51e-05  0.00e+00  0.00e+00 | 1.74e-01  0.00e+00 1.74e-01 | 1.45e-05 0.00e+00 0.00e+00 | 1.0000e+00\n"
     ]
    },
    {
     "name": "stderr",
     "output_type": "stream",
     "text": [
      "   2688 | 1.51e-05  0.00e+00  0.00e+00 | 1.74e-01  0.00e+00 1.74e-01 | 1.45e-05 0.00e+00 0.00e+00 | 1.0000e+00\n"
     ]
    },
    {
     "name": "stdout",
     "output_type": "stream",
     "text": [
      "2025-07-04 16:17:15,421 uot.algorithms.rapdhg.solver_log INFO:    2752 | 1.47e-05  0.00e+00  0.00e+00 | 1.74e-01  0.00e+00 1.74e-01 | 1.42e-05 0.00e+00 0.00e+00 | 1.0000e+00\n"
     ]
    },
    {
     "name": "stderr",
     "output_type": "stream",
     "text": [
      "   2752 | 1.47e-05  0.00e+00  0.00e+00 | 1.74e-01  0.00e+00 1.74e-01 | 1.42e-05 0.00e+00 0.00e+00 | 1.0000e+00\n"
     ]
    },
    {
     "name": "stdout",
     "output_type": "stream",
     "text": [
      "2025-07-04 16:17:16,328 uot.algorithms.rapdhg.solver_log INFO:    2816 | 1.43e-05  0.00e+00  0.00e+00 | 1.74e-01  0.00e+00 1.74e-01 | 1.38e-05 0.00e+00 0.00e+00 | 1.0000e+00\n"
     ]
    },
    {
     "name": "stderr",
     "output_type": "stream",
     "text": [
      "   2816 | 1.43e-05  0.00e+00  0.00e+00 | 1.74e-01  0.00e+00 1.74e-01 | 1.38e-05 0.00e+00 0.00e+00 | 1.0000e+00\n"
     ]
    },
    {
     "name": "stdout",
     "output_type": "stream",
     "text": [
      "2025-07-04 16:17:17,247 uot.algorithms.rapdhg.solver_log INFO:    2880 | 1.40e-05  0.00e+00  0.00e+00 | 1.74e-01  0.00e+00 1.74e-01 | 1.34e-05 0.00e+00 0.00e+00 | 1.0000e+00\n"
     ]
    },
    {
     "name": "stderr",
     "output_type": "stream",
     "text": [
      "   2880 | 1.40e-05  0.00e+00  0.00e+00 | 1.74e-01  0.00e+00 1.74e-01 | 1.34e-05 0.00e+00 0.00e+00 | 1.0000e+00\n"
     ]
    },
    {
     "name": "stdout",
     "output_type": "stream",
     "text": [
      "2025-07-04 16:17:18,156 uot.algorithms.rapdhg.solver_log INFO:    2944 | 1.36e-05  0.00e+00  0.00e+00 | 1.74e-01  0.00e+00 1.74e-01 | 1.31e-05 0.00e+00 0.00e+00 | 1.0000e+00\n"
     ]
    },
    {
     "name": "stderr",
     "output_type": "stream",
     "text": [
      "   2944 | 1.36e-05  0.00e+00  0.00e+00 | 1.74e-01  0.00e+00 1.74e-01 | 1.31e-05 0.00e+00 0.00e+00 | 1.0000e+00\n"
     ]
    },
    {
     "name": "stdout",
     "output_type": "stream",
     "text": [
      "2025-07-04 16:17:19,060 uot.algorithms.rapdhg.solver_log INFO:    3008 | 1.33e-05  0.00e+00  0.00e+00 | 1.74e-01  0.00e+00 1.74e-01 | 1.28e-05 0.00e+00 0.00e+00 | 1.0000e+00\n"
     ]
    },
    {
     "name": "stderr",
     "output_type": "stream",
     "text": [
      "   3008 | 1.33e-05  0.00e+00  0.00e+00 | 1.74e-01  0.00e+00 1.74e-01 | 1.28e-05 0.00e+00 0.00e+00 | 1.0000e+00\n"
     ]
    },
    {
     "name": "stdout",
     "output_type": "stream",
     "text": [
      "2025-07-04 16:17:19,979 uot.algorithms.rapdhg.solver_log INFO:    3072 | 1.30e-05  0.00e+00  0.00e+00 | 1.74e-01  0.00e+00 1.74e-01 | 1.25e-05 0.00e+00 0.00e+00 | 1.0000e+00\n"
     ]
    },
    {
     "name": "stderr",
     "output_type": "stream",
     "text": [
      "   3072 | 1.30e-05  0.00e+00  0.00e+00 | 1.74e-01  0.00e+00 1.74e-01 | 1.25e-05 0.00e+00 0.00e+00 | 1.0000e+00\n"
     ]
    },
    {
     "name": "stdout",
     "output_type": "stream",
     "text": [
      "2025-07-04 16:17:20,897 uot.algorithms.rapdhg.solver_log INFO:    3136 | 1.27e-05  0.00e+00  0.00e+00 | 1.74e-01  0.00e+00 1.74e-01 | 1.22e-05 0.00e+00 0.00e+00 | 1.0000e+00\n"
     ]
    },
    {
     "name": "stderr",
     "output_type": "stream",
     "text": [
      "   3136 | 1.27e-05  0.00e+00  0.00e+00 | 1.74e-01  0.00e+00 1.74e-01 | 1.22e-05 0.00e+00 0.00e+00 | 1.0000e+00\n"
     ]
    },
    {
     "name": "stdout",
     "output_type": "stream",
     "text": [
      "2025-07-04 16:17:21,803 uot.algorithms.rapdhg.solver_log INFO:    3200 | 1.24e-05  0.00e+00  0.00e+00 | 1.74e-01  0.00e+00 1.74e-01 | 1.19e-05 0.00e+00 0.00e+00 | 1.0000e+00\n"
     ]
    },
    {
     "name": "stderr",
     "output_type": "stream",
     "text": [
      "   3200 | 1.24e-05  0.00e+00  0.00e+00 | 1.74e-01  0.00e+00 1.74e-01 | 1.19e-05 0.00e+00 0.00e+00 | 1.0000e+00\n"
     ]
    },
    {
     "name": "stdout",
     "output_type": "stream",
     "text": [
      "2025-07-04 16:17:22,712 uot.algorithms.rapdhg.solver_log INFO:    3264 | 1.21e-05  0.00e+00  0.00e+00 | 1.74e-01  0.00e+00 1.74e-01 | 1.16e-05 0.00e+00 0.00e+00 | 1.0000e+00\n"
     ]
    },
    {
     "name": "stderr",
     "output_type": "stream",
     "text": [
      "   3264 | 1.21e-05  0.00e+00  0.00e+00 | 1.74e-01  0.00e+00 1.74e-01 | 1.16e-05 0.00e+00 0.00e+00 | 1.0000e+00\n"
     ]
    },
    {
     "name": "stdout",
     "output_type": "stream",
     "text": [
      "2025-07-04 16:17:23,620 uot.algorithms.rapdhg.solver_log INFO:    3328 | 1.18e-05  0.00e+00  0.00e+00 | 1.74e-01  0.00e+00 1.74e-01 | 1.14e-05 0.00e+00 0.00e+00 | 1.0000e+00\n"
     ]
    },
    {
     "name": "stderr",
     "output_type": "stream",
     "text": [
      "   3328 | 1.18e-05  0.00e+00  0.00e+00 | 1.74e-01  0.00e+00 1.74e-01 | 1.14e-05 0.00e+00 0.00e+00 | 1.0000e+00\n"
     ]
    },
    {
     "name": "stdout",
     "output_type": "stream",
     "text": [
      "2025-07-04 16:17:24,541 uot.algorithms.rapdhg.solver_log INFO:    3392 | 1.16e-05  0.00e+00  0.00e+00 | 1.74e-01  0.00e+00 1.74e-01 | 1.11e-05 0.00e+00 0.00e+00 | 1.0000e+00\n"
     ]
    },
    {
     "name": "stderr",
     "output_type": "stream",
     "text": [
      "   3392 | 1.16e-05  0.00e+00  0.00e+00 | 1.74e-01  0.00e+00 1.74e-01 | 1.11e-05 0.00e+00 0.00e+00 | 1.0000e+00\n"
     ]
    },
    {
     "name": "stdout",
     "output_type": "stream",
     "text": [
      "2025-07-04 16:17:25,459 uot.algorithms.rapdhg.solver_log INFO:    3456 | 1.14e-05  0.00e+00  0.00e+00 | 1.74e-01  0.00e+00 1.74e-01 | 1.09e-05 0.00e+00 0.00e+00 | 1.0000e+00\n"
     ]
    },
    {
     "name": "stderr",
     "output_type": "stream",
     "text": [
      "   3456 | 1.14e-05  0.00e+00  0.00e+00 | 1.74e-01  0.00e+00 1.74e-01 | 1.09e-05 0.00e+00 0.00e+00 | 1.0000e+00\n"
     ]
    },
    {
     "name": "stdout",
     "output_type": "stream",
     "text": [
      "2025-07-04 16:17:26,377 uot.algorithms.rapdhg.solver_log INFO:    3520 | 1.11e-05  0.00e+00  0.00e+00 | 1.74e-01  0.00e+00 1.74e-01 | 1.07e-05 0.00e+00 0.00e+00 | 1.0000e+00\n"
     ]
    },
    {
     "name": "stderr",
     "output_type": "stream",
     "text": [
      "   3520 | 1.11e-05  0.00e+00  0.00e+00 | 1.74e-01  0.00e+00 1.74e-01 | 1.07e-05 0.00e+00 0.00e+00 | 1.0000e+00\n"
     ]
    },
    {
     "name": "stdout",
     "output_type": "stream",
     "text": [
      "2025-07-04 16:17:27,300 uot.algorithms.rapdhg.solver_log INFO:    3584 | 8.10e-06  0.00e+00  0.00e+00 | 1.74e-01  0.00e+00 1.74e-01 | 7.79e-06 0.00e+00 0.00e+00 | 1.0000e+00\n"
     ]
    },
    {
     "name": "stderr",
     "output_type": "stream",
     "text": [
      "   3584 | 8.10e-06  0.00e+00  0.00e+00 | 1.74e-01  0.00e+00 1.74e-01 | 7.79e-06 0.00e+00 0.00e+00 | 1.0000e+00\n"
     ]
    },
    {
     "name": "stdout",
     "output_type": "stream",
     "text": [
      "2025-07-04 16:17:28,027 uot.algorithms.rapdhg.solver_log INFO:  - Primal objective: 1.7446640305e-01\n",
      " - Primal linear objective: 1.7445978766e-01\n",
      " - Dual objective: 0.0000000000e+00\n",
      " - Corrected dual objective: 0.0000000000e+00\n",
      " - Abs gap: 0.00000e+00\n",
      " - Rel gap: 0.00000e+00\n",
      " - Abs Primal residual: 8.10112e-06\n",
      " - Abs Dual residual: 0.00000e+00\n",
      " - Rel primal residual: 7.78546e-06\n",
      " - Rel dual residual: 0.00000e+00\n"
     ]
    },
    {
     "name": "stderr",
     "output_type": "stream",
     "text": [
      " - Primal objective: 1.7446640305e-01\n",
      " - Primal linear objective: 1.7445978766e-01\n",
      " - Dual objective: 0.0000000000e+00\n",
      " - Corrected dual objective: 0.0000000000e+00\n",
      " - Abs gap: 0.00000e+00\n",
      " - Rel gap: 0.00000e+00\n",
      " - Abs Primal residual: 8.10112e-06\n",
      " - Abs Dual residual: 0.00000e+00\n",
      " - Rel primal residual: 7.78546e-06\n",
      " - Rel dual residual: 0.00000e+00\n"
     ]
    }
   ],
   "execution_count": 77
  },
  {
   "metadata": {
    "ExecuteTime": {
     "end_time": "2025-07-04T20:32:21.355457Z",
     "start_time": "2025-07-04T20:32:21.351541Z"
    }
   },
   "cell_type": "code",
   "source": "from uot.solvers.pdhg import pdhg_quadratic_ot",
   "id": "affcbe9991318b5e",
   "outputs": [],
   "execution_count": 8
  },
  {
   "metadata": {
    "ExecuteTime": {
     "end_time": "2025-07-04T20:32:38.447724Z",
     "start_time": "2025-07-04T20:32:38.443349Z"
    }
   },
   "cell_type": "code",
   "source": [
    "from uot.solvers.sinkhorn import _sinkhorn\n",
    "from uot.utils.solver_helpers import coupling_tensor"
   ],
   "id": "864bcb1640d8d00f",
   "outputs": [],
   "execution_count": 11
  },
  {
   "metadata": {
    "ExecuteTime": {
     "end_time": "2025-07-04T20:32:39.679062Z",
     "start_time": "2025-07-04T20:32:38.489955Z"
    }
   },
   "cell_type": "code",
   "source": [
    "a = marginals[0].to_discrete()[1]\n",
    "b = marginals[1].to_discrete()[1]\n",
    "c = costs[0]\n",
    "eps = 299\n",
    "u, v, _, _ = _sinkhorn(\n",
    "    a=a,\n",
    "    b=b,\n",
    "    cost=c,\n",
    "    epsilon=eps,\n",
    "    precision=1e-6,\n",
    "    max_iters=100000\n",
    ")\n",
    "P_sink = coupling_tensor(u, v, c, eps)\n",
    "P_sink"
   ],
   "id": "e794de7683e66c1f",
   "outputs": [
    {
     "data": {
      "text/plain": [
       "Array([[4.45740751e-31, 1.17427190e-30, 3.05701467e-30, ...,\n",
       "        1.49364298e-19, 8.53577810e-20, 4.82038755e-20],\n",
       "       [5.10986239e-31, 1.34615672e-30, 3.50448792e-30, ...,\n",
       "        1.71231998e-19, 9.78546184e-20, 5.52611932e-20],\n",
       "       [5.82685123e-31, 1.53504262e-30, 3.99622077e-30, ...,\n",
       "        1.95263426e-19, 1.11587976e-19, 6.30168107e-20],\n",
       "       ...,\n",
       "       [0.00000000e+00, 0.00000000e+00, 0.00000000e+00, ...,\n",
       "        0.00000000e+00, 0.00000000e+00, 0.00000000e+00],\n",
       "       [0.00000000e+00, 0.00000000e+00, 0.00000000e+00, ...,\n",
       "        0.00000000e+00, 0.00000000e+00, 0.00000000e+00],\n",
       "       [0.00000000e+00, 0.00000000e+00, 0.00000000e+00, ...,\n",
       "        0.00000000e+00, 0.00000000e+00, 0.00000000e+00]], dtype=float64)"
      ]
     },
     "execution_count": 12,
     "metadata": {},
     "output_type": "execute_result"
    }
   ],
   "execution_count": 12
  },
  {
   "metadata": {
    "ExecuteTime": {
     "end_time": "2025-07-04T20:32:54.403575Z",
     "start_time": "2025-07-04T20:32:39.682548Z"
    }
   },
   "cell_type": "code",
   "source": [
    "import ot\n",
    "import numpy as np\n",
    "P = ot.emd(a, b, c, numItermax=40000)"
   ],
   "id": "fd234f49e91637ce",
   "outputs": [],
   "execution_count": 13
  },
  {
   "metadata": {
    "ExecuteTime": {
     "end_time": "2025-07-04T20:32:55.154496Z",
     "start_time": "2025-07-04T20:32:54.641672Z"
    }
   },
   "cell_type": "code",
   "source": "np.linalg.norm(P_sink - P)",
   "id": "e1a8112f52e651f3",
   "outputs": [
    {
     "data": {
      "text/plain": [
       "np.float64(0.0038004730244626077)"
      ]
     },
     "execution_count": 14,
     "metadata": {},
     "output_type": "execute_result"
    }
   ],
   "execution_count": 14
  },
  {
   "metadata": {
    "ExecuteTime": {
     "end_time": "2025-07-04T20:19:40.094623Z",
     "start_time": "2025-07-04T20:19:38.480500Z"
    }
   },
   "cell_type": "code",
   "source": "np.linalg.norm(P_pdlp - P)",
   "id": "1ce8319e0884bafc",
   "outputs": [
    {
     "data": {
      "text/plain": [
       "np.float64(0.004418717896000347)"
      ]
     },
     "execution_count": 107,
     "metadata": {},
     "output_type": "execute_result"
    }
   ],
   "execution_count": 107
  },
  {
   "metadata": {
    "ExecuteTime": {
     "end_time": "2025-07-04T20:17:45.172550Z",
     "start_time": "2025-07-04T20:17:45.162264Z"
    }
   },
   "cell_type": "code",
   "source": "np.abs(np.sum(P * c) - np.sum(P_sink * c))",
   "id": "9c6b8d1998071ec5",
   "outputs": [
    {
     "data": {
      "text/plain": [
       "np.float64(0.18407798805931264)"
      ]
     },
     "execution_count": 80,
     "metadata": {},
     "output_type": "execute_result"
    }
   ],
   "execution_count": 80
  },
  {
   "metadata": {
    "ExecuteTime": {
     "end_time": "2025-07-04T20:17:45.648629Z",
     "start_time": "2025-07-04T20:17:45.642291Z"
    }
   },
   "cell_type": "code",
   "source": "np.abs(np.sum(P * c) - np.sum(P_pdlp * c))",
   "id": "89821f7ee7eead7b",
   "outputs": [
    {
     "data": {
      "text/plain": [
       "np.float64(0.17192694309270007)"
      ]
     },
     "execution_count": 81,
     "metadata": {},
     "output_type": "execute_result"
    }
   ],
   "execution_count": 81
  },
  {
   "metadata": {
    "ExecuteTime": {
     "end_time": "2025-07-04T20:44:53.237598Z",
     "start_time": "2025-07-04T20:44:52.889291Z"
    }
   },
   "cell_type": "code",
   "source": [
    "P_pdhg, _, _, iters =  pdhg_quadratic_ot(\n",
    "    c, a, b,\n",
    "    eps=100.0,\n",
    "    tau=0.01,\n",
    "    sigma=0.01,\n",
    "    tol=1e-4,\n",
    "    max_outer_iter=50,\n",
    "    ref_coupling=P,\n",
    ")"
   ],
   "id": "e38fe8b261169517",
   "outputs": [
    {
     "name": "stdout",
     "output_type": "stream",
     "text": [
      "Quadratic OT finished within 50 iterations\n"
     ]
    }
   ],
   "execution_count": 69
  },
  {
   "metadata": {
    "ExecuteTime": {
     "end_time": "2025-07-04T20:44:53.446837Z",
     "start_time": "2025-07-04T20:44:53.240263Z"
    }
   },
   "cell_type": "code",
   "source": "iters['primal_feas'][0]",
   "id": "a1f8c94458395fee",
   "outputs": [
    {
     "data": {
      "text/plain": [
       "Array(0.02886428, dtype=float64)"
      ]
     },
     "execution_count": 70,
     "metadata": {},
     "output_type": "execute_result"
    }
   ],
   "execution_count": 70
  },
  {
   "metadata": {
    "ExecuteTime": {
     "end_time": "2025-07-04T20:44:54.409190Z",
     "start_time": "2025-07-04T20:44:53.913823Z"
    }
   },
   "cell_type": "code",
   "source": "np.linalg.norm(P_pdhg - P)",
   "id": "dad02a59d126bfdb",
   "outputs": [
    {
     "data": {
      "text/plain": [
       "np.float64(0.0037132390482283828)"
      ]
     },
     "execution_count": 71,
     "metadata": {},
     "output_type": "execute_result"
    }
   ],
   "execution_count": 71
  },
  {
   "metadata": {
    "ExecuteTime": {
     "end_time": "2025-07-04T20:44:54.522301Z",
     "start_time": "2025-07-04T20:44:54.510860Z"
    }
   },
   "cell_type": "code",
   "source": "np.abs(np.sum(P * c) - np.sum(P_pdhg * c))",
   "id": "797b729fa2dca188",
   "outputs": [
    {
     "data": {
      "text/plain": [
       "np.float64(0.0050928788259625435)"
      ]
     },
     "execution_count": 72,
     "metadata": {},
     "output_type": "execute_result"
    }
   ],
   "execution_count": 72
  },
  {
   "metadata": {
    "ExecuteTime": {
     "end_time": "2025-07-17T15:17:30.897627Z",
     "start_time": "2025-07-17T15:17:30.895007Z"
    }
   },
   "cell_type": "code",
   "source": [
    "import sys\n",
    "import os\n",
    "\n",
    "repo_root = \"/home/druban/gpu_tests/ot-algorithm-comparison\"\n",
    "sys.path.insert(0, str(repo_root))\n",
    "\n",
    "os.environ[\"CUDA_VISIBLE_DEVICES\"] = \"3\"\n",
    "os.environ[\"XLA_PYTHON_CLIENT_MEM_FRACTION\"] = \"1.0\""
   ],
   "id": "567519e305d68afa",
   "outputs": [],
   "execution_count": 5
  },
  {
   "metadata": {
    "ExecuteTime": {
     "end_time": "2025-07-17T15:17:14.007762Z",
     "start_time": "2025-07-17T15:17:06.645996Z"
    }
   },
   "cell_type": "code",
   "source": [
    "import jax\n",
    "from uot.problems.generators.gaussian_mixture_generator import GaussianMixtureGenerator\n",
    "from uot.problems.generators.exponential_generator import ExponentialGenerator\n",
    "from uot.solvers.base_solver import BaseSolver\n",
    "from uot.utils.costs import cost_euclid_squared\n",
    "from matplotlib import pyplot as plt\n",
    "from uot.solvers.pdlp import PDLPSolver\n",
    "from uot.solvers.sinkhorn import SinkhornTwoMarginalSolver\n",
    "from uot.solvers.gradient_ascent import GradientAscentTwoMarginalSolver\n",
    "from uot.experiments.experiment import Experiment\n",
    "from uot.experiments.measurement import measure_time_and_precision, measure_pushforward\n",
    "from uot.problems.problem_generator import ProblemGenerator"
   ],
   "id": "906fa871142f5086",
   "outputs": [
    {
     "name": "stderr",
     "output_type": "stream",
     "text": [
      "2025-07-17 11:17:08.531869: E external/local_xla/xla/stream_executor/cuda/cuda_fft.cc:467] Unable to register cuFFT factory: Attempting to register factory for plugin cuFFT when one has already been registered\n",
      "WARNING: All log messages before absl::InitializeLog() is called are written to STDERR\n",
      "E0000 00:00:1752765428.548213 3617962 cuda_dnn.cc:8579] Unable to register cuDNN factory: Attempting to register factory for plugin cuDNN when one has already been registered\n",
      "E0000 00:00:1752765428.553384 3617962 cuda_blas.cc:1407] Unable to register cuBLAS factory: Attempting to register factory for plugin cuBLAS when one has already been registered\n",
      "W0000 00:00:1752765428.566470 3617962 computation_placer.cc:177] computation placer already registered. Please check linkage and avoid linking the same target more than once.\n",
      "W0000 00:00:1752765428.566484 3617962 computation_placer.cc:177] computation placer already registered. Please check linkage and avoid linking the same target more than once.\n",
      "W0000 00:00:1752765428.566487 3617962 computation_placer.cc:177] computation placer already registered. Please check linkage and avoid linking the same target more than once.\n",
      "W0000 00:00:1752765428.566488 3617962 computation_placer.cc:177] computation placer already registered. Please check linkage and avoid linking the same target more than once.\n"
     ]
    }
   ],
   "execution_count": 3
  },
  {
   "metadata": {
    "ExecuteTime": {
     "end_time": "2025-07-17T15:17:14.012655Z",
     "start_time": "2025-07-17T15:17:14.010491Z"
    }
   },
   "cell_type": "code",
   "source": "jax.config.update(\"jax_enable_x64\", True)\n",
   "id": "a242663d1809efd0",
   "outputs": [],
   "execution_count": 4
  },
  {
   "metadata": {
    "ExecuteTime": {
     "end_time": "2025-07-16T18:39:32.460996Z",
     "start_time": "2025-07-16T18:39:32.454208Z"
    }
   },
   "cell_type": "code",
   "source": [
    "import pandas as pd\n",
    "\n",
    "def run_pushforward_experiments_on_dataset(\n",
    "    generator: ProblemGenerator,\n",
    "    regs: list[float],\n",
    "    solvers: list[BaseSolver],\n",
    "    **kwargs,\n",
    "):\n",
    "    ## Gather metrics first\n",
    "    records = []\n",
    "    experiment = Experiment(\n",
    "        name=\"Pushforward bias\",\n",
    "        solve_fn=measure_pushforward\n",
    "    )\n",
    "    for solver in solvers:\n",
    "        for reg in regs:\n",
    "            df = experiment.run_on_problems(\n",
    "                problems=generator.generate(),\n",
    "                solver=solver,\n",
    "                reg=reg,\n",
    "                **kwargs,\n",
    "            )\n",
    "\n",
    "            records.append({\n",
    "                'name': solver.__name__,\n",
    "                'reg': reg,\n",
    "                'avg_barycentric_l2_bias': df[\"barycentric_l2_bias\"].mean(),\n",
    "                'avg_barycentric_w2_bias': df[\"barycentric_w2_bias\"].mean(),\n",
    "                'avg_monge_l2_bias': df[\"monge_l2_bias\"].mean(),\n",
    "                'avg_monge_w2_bias': df[\"monge_w2_bias\"].mean(),\n",
    "            })\n",
    "\n",
    "    df_result = pd.DataFrame(records)\n",
    "\n",
    "    ## Plot the results\n",
    "\n",
    "    # 1️⃣  Average runtime vs reg\n",
    "    fig, ((ax1, ax2), (ax3, ax4)) = plt.subplots(2, 2, figsize=(12, 8))\n",
    "\n",
    "    fig.suptitle(generator._name)\n",
    "\n",
    "    for name, sub in df_result.groupby(\"name\"):\n",
    "        ax1.plot(sub[\"reg\"], sub[\"avg_barycentric_l2_bias\"], marker=\"o\", label=name)\n",
    "    ax1.set_xscale(\"log\")\n",
    "    # ax1.set_xlabel(\"Regularisation $\\\\varepsilon$\")\n",
    "    ax1.set_title(\"Avg. Bar. L2 bias\")        # <- common prefix\n",
    "    ax1.legend()\n",
    "\n",
    "    # 2️⃣  Average cost‑error vs reg\n",
    "    for name, sub in df_result.groupby(\"name\"):\n",
    "        ax2.plot(sub[\"reg\"], sub[\"avg_barycentric_w2_bias\"], marker=\"o\", label=name)\n",
    "    ax2.set_xscale(\"log\")\n",
    "    ax2.set_yscale(\"log\")\n",
    "    # ax2.set_xlabel(\"Regularisation $\\\\varepsilon$\")\n",
    "    ax2.set_title(\"Avg. Bar. Wasserstein bias\")      # <- same prefix\n",
    "    ax2.legend()\n",
    "\n",
    "    for name, sub in df_result.groupby(\"name\"):\n",
    "        ax3.plot(sub[\"reg\"], sub[\"avg_monge_l2_bias\"], marker=\"o\", label=name)\n",
    "    ax3.set_xscale(\"log\")\n",
    "    ax3.set_xlabel(\"Regularisation $\\\\varepsilon$\")\n",
    "    ax3.set_title(\"Avg. Monge L2 bias\")        # <- common prefix\n",
    "    ax3.legend()\n",
    "\n",
    "    # 2️⃣  Average cost‑error vs reg\n",
    "    for name, sub in df_result.groupby(\"name\"):\n",
    "        ax4.plot(sub[\"reg\"], sub[\"avg_monge_w2_bias\"], marker=\"o\", label=name)\n",
    "    ax4.set_xscale(\"log\")\n",
    "    ax4.set_yscale(\"log\")\n",
    "    ax4.set_xlabel(\"Regularisation $\\\\varepsilon$\")\n",
    "    ax4.set_title(\"Avg. Monge Wasserstein bias\")      # <- same prefix\n",
    "    ax4.legend()"
   ],
   "id": "dfd9424a2b56fd6",
   "outputs": [],
   "execution_count": 8
  },
  {
   "metadata": {
    "ExecuteTime": {
     "end_time": "2025-07-17T15:36:21.967189Z",
     "start_time": "2025-07-17T15:36:14.877015Z"
    }
   },
   "cell_type": "code",
   "source": [
    "gaussian_generator = GaussianMixtureGenerator(\n",
    "    name=\"Gaussian-1d-1024p\",\n",
    "    dim=1,\n",
    "    num_components=1,\n",
    "    n_points=1024,\n",
    "    num_datasets=2,\n",
    "    borders=[-1, 1],\n",
    "    cost_fn=cost_euclid_squared\n",
    ")\n",
    "\n",
    "run_pushforward_experiments_on_dataset(\n",
    "    generator=gaussian_generator,\n",
    "    regs=[10000.0, 1000.0, 100.0, 10.0, 1.0, 0.1, 0.01, 0.0001],\n",
    "    solvers=[PDLPSolver, SinkhornTwoMarginalSolver],\n",
    "    tol=1e-6,\n",
    "    maxiter=100000,\n",
    ")"
   ],
   "id": "cf2a959d4dabc17",
   "outputs": [
    {
     "name": "stderr",
     "output_type": "stream",
     "text": [
      "\n",
      "KeyboardInterrupt\n",
      "\n"
     ]
    }
   ],
   "execution_count": 21
  },
  {
   "metadata": {
    "ExecuteTime": {
     "end_time": "2025-07-17T15:35:57.163657Z",
     "start_time": "2025-07-17T15:35:57.161072Z"
    }
   },
   "cell_type": "code",
   "source": [
    "exponential_generator = ExponentialGenerator(\n",
    "    name=\"Exponential-1d-1024p\",\n",
    "    dim=1,\n",
    "    n_points=1024,\n",
    "    num_datasets=2,\n",
    "    borders=[0, 5],\n",
    "    cost_fn=cost_euclid_squared\n",
    ")"
   ],
   "id": "a42e5cddc7d9357b",
   "outputs": [],
   "execution_count": 16
  },
  {
   "metadata": {
    "ExecuteTime": {
     "end_time": "2025-07-17T15:35:57.388496Z",
     "start_time": "2025-07-17T15:35:57.384039Z"
    }
   },
   "cell_type": "code",
   "source": "problem = list(exponential_generator.generate())[0]",
   "id": "3f4a0ede9cb8f78f",
   "outputs": [],
   "execution_count": 17
  },
  {
   "metadata": {
    "ExecuteTime": {
     "end_time": "2025-07-17T15:36:07.255919Z",
     "start_time": "2025-07-17T15:36:07.183120Z"
    }
   },
   "cell_type": "code",
   "source": [
    "from matplotlib import pyplot as plt\n",
    "x, y = problem.get_marginals()[1].to_discrete()\n",
    "plt.plot(x, y)\n"
   ],
   "id": "397c3fe7cf4c07b5",
   "outputs": [
    {
     "data": {
      "text/plain": [
       "[<matplotlib.lines.Line2D at 0x7fe20c0e3390>]"
      ]
     },
     "execution_count": 20,
     "metadata": {},
     "output_type": "execute_result"
    },
    {
     "data": {
      "text/plain": [
       "<Figure size 640x480 with 1 Axes>"
      ],
      "image/png": "[encoded data removed]"
     },
     "metadata": {},
     "output_type": "display_data"
    }
   ],
   "execution_count": 20
  },
  {
   "metadata": {
    "ExecuteTime": {
     "end_time": "2025-07-17T15:36:29.688331Z",
     "start_time": "2025-07-17T15:36:29.685224Z"
    }
   },
   "cell_type": "code",
   "source": [
    "gaussian_generator = GaussianMixtureGenerator(\n",
    "    name=\"Gaussian-1d-1024p\",\n",
    "    dim=1,\n",
    "    num_components=1,\n",
    "    n_points=512,\n",
    "    num_datasets=2,\n",
    "    borders=[-1, 1],\n",
    "    cost_fn=cost_euclid_squared\n",
    ")"
   ],
   "id": "112bfd5c32a85f68",
   "outputs": [],
   "execution_count": 23
  },
  {
   "metadata": {
    "ExecuteTime": {
     "end_time": "2025-07-17T16:11:06.553058Z",
     "start_time": "2025-07-17T16:09:15.746927Z"
    }
   },
   "cell_type": "code",
   "source": [
    "problem = list(gaussian_generator.generate())[0]\n",
    "\n",
    "reg = 1e-2\n",
    "c = problem.get_costs()[0] / problem.get_costs()[0].std()\n",
    "\n",
    "result = PDLPSolver().solve(\n",
    "    marginals=problem.get_marginals(),\n",
    "    costs=problem.get_costs(),\n",
    "    reg=1e-3,\n",
    "    tol=1e-8,\n",
    "    maxiter=300000\n",
    ")"
   ],
   "id": "3644dbe26385e8a7",
   "outputs": [],
   "execution_count": 146
  },
  {
   "metadata": {
    "ExecuteTime": {
     "end_time": "2025-07-17T16:11:11.599804Z",
     "start_time": "2025-07-17T16:11:11.597439Z"
    }
   },
   "cell_type": "code",
   "source": [
    "u, v = result[\"u_final\"], result[\"v_final\"]\n",
    "plan = result[\"transport_plan\"]"
   ],
   "id": "e7d760aea5b9c177",
   "outputs": [],
   "execution_count": 147
  },
  {
   "metadata": {
    "ExecuteTime": {
     "end_time": "2025-07-17T16:11:12.320169Z",
     "start_time": "2025-07-17T16:11:12.313677Z"
    }
   },
   "cell_type": "code",
   "source": "result",
   "id": "4f2751b0f3f80699",
   "outputs": [
    {
     "data": {
      "text/plain": [
       "{'transport_plan': Array([[5.45926394e-08, 5.80969434e-08, 6.18155179e-08, ...,\n",
       "         0.00000000e+00, 0.00000000e+00, 0.00000000e+00],\n",
       "        [0.00000000e+00, 0.00000000e+00, 0.00000000e+00, ...,\n",
       "         0.00000000e+00, 0.00000000e+00, 0.00000000e+00],\n",
       "        [0.00000000e+00, 0.00000000e+00, 0.00000000e+00, ...,\n",
       "         0.00000000e+00, 0.00000000e+00, 0.00000000e+00],\n",
       "        ...,\n",
       "        [0.00000000e+00, 0.00000000e+00, 0.00000000e+00, ...,\n",
       "         0.00000000e+00, 0.00000000e+00, 1.65729383e-04],\n",
       "        [0.00000000e+00, 0.00000000e+00, 0.00000000e+00, ...,\n",
       "         0.00000000e+00, 0.00000000e+00, 1.63458511e-04],\n",
       "        [0.00000000e+00, 0.00000000e+00, 0.00000000e+00, ...,\n",
       "         0.00000000e+00, 0.00000000e+00, 1.61213724e-04]], dtype=float64),\n",
       " 'cost': Array(0.63577628, dtype=float64),\n",
       " 'u_final': Array([ 1.30254929e+00,  1.29769616e+00,  1.29232231e+00,  1.28664188e+00,\n",
       "         1.28071676e+00,  1.27460804e+00,  1.26837587e+00,  1.26202103e+00,\n",
       "         1.25554445e+00,  1.24897596e+00,  1.24234497e+00,  1.23562335e+00,\n",
       "         1.22884027e+00,  1.22199618e+00,  1.21511968e+00,  1.20818300e+00,\n",
       "         1.20121444e+00,  1.19418650e+00,  1.18712720e+00,  1.18003677e+00,\n",
       "         1.17291541e+00,  1.16576339e+00,  1.15858098e+00,  1.15136580e+00,\n",
       "         1.14414888e+00,  1.13690354e+00,  1.12962636e+00,  1.12234765e+00,\n",
       "         1.11504110e+00,  1.10770483e+00,  1.10036668e+00,  1.09300052e+00,\n",
       "         1.08563088e+00,  1.07825984e+00,  1.07086157e+00,  1.06346034e+00,\n",
       "         1.05605774e+00,  1.04862845e+00,  1.04119750e+00,  1.03376426e+00,\n",
       "         1.02632982e+00,  1.01886927e+00,  1.01140740e+00,  1.00394430e+00,\n",
       "         9.96480042e-01,  9.89014665e-01,  9.81547740e-01,  9.74080057e-01,\n",
       "         9.66587260e-01,  9.59093653e-01,  9.51599313e-01,  9.44104324e-01,\n",
       "         9.36608759e-01,  9.29112678e-01,  9.21616155e-01,  9.14119281e-01,\n",
       "         9.06622159e-01,  8.99124871e-01,  8.91627488e-01,  8.84130087e-01,\n",
       "         8.76637790e-01,  8.69169039e-01,  8.61695364e-01,  8.54221950e-01,\n",
       "         8.46748882e-01,  8.39276249e-01,  8.31804149e-01,  8.24332670e-01,\n",
       "         8.16861891e-01,  8.09398396e-01,  8.01958828e-01,  7.94513208e-01,\n",
       "         7.87068532e-01,  7.79624874e-01,  7.72182317e-01,  7.64748350e-01,\n",
       "         7.57338546e-01,  7.49922055e-01,  7.42506999e-01,  7.35093435e-01,\n",
       "         7.27689393e-01,  7.20309820e-01,  7.12923146e-01,  7.05538318e-01,\n",
       "         6.98155454e-01,  6.90782126e-01,  6.83433514e-01,  6.76078448e-01,\n",
       "         6.68725601e-01,  6.61382673e-01,  6.54064653e-01,  6.46740252e-01,\n",
       "         6.39418306e-01,  6.32106198e-01,  6.24819055e-01,  6.17525826e-01,\n",
       "         6.10243411e-01,  6.02986048e-01,  5.95721718e-01,  5.88460180e-01,\n",
       "         5.81209015e-01,  5.73982999e-01,  5.66750882e-01,  5.59529736e-01,\n",
       "         5.52333757e-01,  5.45131517e-01,  5.37940642e-01,  5.30774767e-01,\n",
       "         5.23602954e-01,  5.16442630e-01,  5.09307035e-01,  5.02165753e-01,\n",
       "         4.95036047e-01,  4.87930902e-01,  4.80820209e-01,  4.73721135e-01,\n",
       "         4.66646527e-01,  4.59566427e-01,  4.52497983e-01,  4.45453999e-01,\n",
       "         4.38404556e-01,  4.31366778e-01,  4.24353586e-01,  4.17334922e-01,\n",
       "         4.10327870e-01,  4.03345629e-01,  3.96366729e-01,  3.89413641e-01,\n",
       "         3.82455256e-01,  3.75509002e-01,  3.68587019e-01,  3.61659837e-01,\n",
       "         3.54744514e-01,  3.47853711e-01,  3.40966208e-01,  3.34104725e-01,\n",
       "         3.27238386e-01,  3.20383834e-01,  3.13554377e-01,  3.06727706e-01,\n",
       "         2.99927392e-01,  2.93122402e-01,  2.86328882e-01,  2.79560868e-01,\n",
       "         2.72795277e-01,  2.66056281e-01,  2.59312645e-01,  2.52580346e-01,\n",
       "         2.45873666e-01,  2.39169306e-01,  2.32491692e-01,  2.25809397e-01,\n",
       "         2.19138378e-01,  2.12493217e-01,  2.05849691e-01,  1.99234881e-01,\n",
       "         1.92621766e-01,  1.86035923e-01,  1.79445242e-01,  1.72865641e-01,\n",
       "         1.66312458e-01,  1.59760497e-01,  1.53237570e-01,  1.46716134e-01,\n",
       "         1.40222125e-01,  1.33723007e-01,  1.27235187e-01,  1.20773884e-01,\n",
       "         1.14313887e-01,  1.07882890e-01,  1.01452877e-01,  9.50522003e-02,\n",
       "         8.86528673e-02,  8.22812175e-02,  7.59042594e-02,  6.95388301e-02,\n",
       "         6.32000059e-02,  5.68625342e-02,  5.05540731e-02,  4.42467042e-02,\n",
       "         3.79686238e-02,  3.16913790e-02,  2.54436874e-02,  1.91965803e-02,\n",
       "         1.29792966e-02,  6.76301986e-03,  5.74819039e-04, -5.61885223e-03,\n",
       "        -1.18009847e-02, -1.79561034e-02, -2.41102683e-02, -3.02349302e-02,\n",
       "        -3.63588348e-02, -4.24530256e-02, -4.85466408e-02, -5.46103571e-02,\n",
       "        -6.06736694e-02, -6.67068981e-02, -7.27398854e-02, -7.87426204e-02,\n",
       "        -8.47452554e-02, -9.07175104e-02, -9.66897661e-02, -1.02631579e-01,\n",
       "        -1.08572800e-01, -1.14485477e-01, -1.20403827e-01, -1.26310539e-01,\n",
       "        -1.32190081e-01, -1.38068732e-01, -1.43917812e-01, -1.49766006e-01,\n",
       "        -1.55584588e-01, -1.61402287e-01, -1.67190341e-01, -1.72977514e-01,\n",
       "        -1.78734999e-01, -1.84491613e-01, -1.90218477e-01, -1.95944474e-01,\n",
       "        -2.01640705e-01, -2.07336061e-01, -2.13001644e-01, -2.18666343e-01,\n",
       "        -2.24301265e-01, -2.29935283e-01, -2.35539557e-01, -2.41142880e-01,\n",
       "        -2.46716538e-01, -2.52289186e-01, -2.57832217e-01, -2.63374185e-01,\n",
       "        -2.68886600e-01, -2.74397889e-01, -2.79879699e-01, -2.85360321e-01,\n",
       "        -2.90811515e-01, -2.96261469e-01, -3.01682041e-01, -3.07101336e-01,\n",
       "        -3.12491242e-01, -3.17879851e-01, -3.23239076e-01, -3.28596979e-01,\n",
       "        -3.33925501e-01, -3.39252294e-01, -3.44538022e-01, -3.49806395e-01,\n",
       "        -3.55074225e-01, -3.60311876e-01, -3.65548859e-01, -3.70755772e-01,\n",
       "        -3.75961867e-01, -3.81138039e-01, -3.86313217e-01, -3.91458646e-01,\n",
       "        -3.96602888e-01, -4.01717560e-01, -4.06830895e-01, -4.11914700e-01,\n",
       "        -4.16997079e-01, -4.22049981e-01, -4.27101401e-01, -4.32123382e-01,\n",
       "        -4.37143671e-01, -4.42122514e-01, -4.47084553e-01, -4.52045172e-01,\n",
       "        -4.56976524e-01, -4.61906321e-01, -4.66806698e-01, -4.71705551e-01,\n",
       "        -4.76574920e-01, -4.81442835e-01, -4.86281168e-01, -4.91118147e-01,\n",
       "        -4.95925435e-01, -5.00731474e-01, -5.05507733e-01, -5.10282523e-01,\n",
       "        -5.15016351e-01, -5.19732566e-01, -5.24447816e-01, -5.29133062e-01,\n",
       "        -5.33817346e-01, -5.38471628e-01, -5.43124906e-01, -5.47748248e-01,\n",
       "        -5.52370521e-01, -5.56962892e-01, -5.61553924e-01, -5.66103795e-01,\n",
       "        -5.70636075e-01, -5.75167221e-01, -5.79668520e-01, -5.84168618e-01,\n",
       "        -5.88638926e-01, -5.93107978e-01, -5.97547266e-01, -6.01985175e-01,\n",
       "        -6.06381727e-01, -6.10760707e-01, -6.15138398e-01, -6.19486361e-01,\n",
       "        -6.23832943e-01, -6.28149885e-01, -6.32465405e-01, -6.36739362e-01,\n",
       "        -6.40995877e-01, -6.45251082e-01, -6.49476602e-01, -6.53700759e-01,\n",
       "        -6.57895286e-01, -6.62088440e-01, -6.66251903e-01, -6.70414016e-01,\n",
       "        -6.74534747e-01, -6.78637784e-01, -6.82739528e-01, -6.86811552e-01,\n",
       "        -6.90882281e-01, -6.94923223e-01, -6.98962892e-01, -7.02961062e-01,\n",
       "        -7.06941482e-01, -7.10920676e-01, -7.14869985e-01, -7.18818085e-01,\n",
       "        -7.22724346e-01, -7.26612985e-01, -7.30500470e-01, -7.34357953e-01,\n",
       "        -7.38214287e-01, -7.42040571e-01, -7.45865730e-01, -7.49649424e-01,\n",
       "        -7.53414972e-01, -7.57179425e-01, -7.60913743e-01, -7.64646989e-01,\n",
       "        -7.68338770e-01, -7.72012286e-01, -7.75684751e-01, -7.79327030e-01,\n",
       "        -7.82968281e-01, -7.86568151e-01, -7.90149554e-01, -7.93729956e-01,\n",
       "        -7.97280098e-01, -8.00829261e-01, -8.04337222e-01, -8.07826413e-01,\n",
       "        -8.11314655e-01, -8.14772565e-01, -8.18229544e-01, -8.21645594e-01,\n",
       "        -8.25042486e-01, -8.28438476e-01, -8.31804065e-01, -8.35168770e-01,\n",
       "        -8.38492907e-01, -8.41797425e-01, -8.45101082e-01, -8.48374294e-01,\n",
       "        -8.51646664e-01, -8.54878890e-01, -8.58090977e-01, -8.61302248e-01,\n",
       "        -8.64473199e-01, -8.67624113e-01, -8.70774238e-01, -8.73893813e-01,\n",
       "        -8.77012615e-01, -8.80091655e-01, -8.83150008e-01, -8.86207611e-01,\n",
       "        -8.89225377e-01, -8.92222477e-01, -8.95218851e-01, -8.98184607e-01,\n",
       "        -9.01149649e-01, -9.04075503e-01, -9.06979984e-01, -9.09883772e-01,\n",
       "        -9.12748351e-01, -9.15591541e-01, -9.18434056e-01, -9.21237361e-01,\n",
       "        -9.24019237e-01, -9.26800459e-01, -9.29550998e-01, -9.32300897e-01,\n",
       "        -9.35012290e-01, -9.37701484e-01, -9.40390057e-01, -9.43040177e-01,\n",
       "        -9.45668002e-01, -9.48295228e-01, -9.50884072e-01, -9.53450507e-01,\n",
       "        -9.56016360e-01, -9.58543930e-01, -9.61048955e-01, -9.63553416e-01,\n",
       "        -9.66019712e-01, -9.68463318e-01, -9.70906376e-01, -9.73311397e-01,\n",
       "        -9.75693573e-01, -9.78075217e-01, -9.80418964e-01, -9.82739696e-01,\n",
       "        -9.85059913e-01, -9.87342385e-01, -9.89601649e-01, -9.91860416e-01,\n",
       "        -9.94081614e-01, -9.96279378e-01, -9.98476665e-01, -1.00063659e+00,\n",
       "        -1.00277282e+00, -1.00490859e+00, -1.00700724e+00, -1.00908189e+00,\n",
       "        -1.01115612e+00, -1.01319349e+00, -1.01520023e+00, -1.01718303e+00,\n",
       "        -1.01916543e+00, -1.02111090e+00, -1.02303203e+00, -1.02495278e+00,\n",
       "        -1.02683697e+00, -1.02869641e+00, -1.03055549e+00, -1.03237840e+00,\n",
       "        -1.03417068e+00, -1.03593813e+00, -1.03770522e+00, -1.03943623e+00,\n",
       "        -1.04114195e+00, -1.04284733e+00, -1.04451706e+00, -1.04615615e+00,\n",
       "        -1.04776981e+00, -1.04938316e+00, -1.05096098e+00, -1.05251289e+00,\n",
       "        -1.05406449e+00, -1.05558103e+00, -1.05706694e+00, -1.05852672e+00,\n",
       "        -1.05998622e+00, -1.06141085e+00, -1.06280484e+00, -1.06417245e+00,\n",
       "        -1.06553979e+00, -1.06687251e+00, -1.06817460e+00, -1.06944999e+00,\n",
       "        -1.07072513e+00, -1.07196593e+00, -1.07317611e+00, -1.07435923e+00,\n",
       "        -1.07554212e+00, -1.07669102e+00, -1.07780928e+00, -1.07890010e+00,\n",
       "        -1.07999070e+00, -1.08104768e+00, -1.08207403e+00, -1.08307252e+00,\n",
       "        -1.08407081e+00, -1.08503588e+00, -1.08597032e+00, -1.08687646e+00,\n",
       "        -1.08778241e+00, -1.08865557e+00, -1.08949809e+00, -1.09030998e+00,\n",
       "        -1.09109329e+00, -1.09187643e+00, -1.09262704e+00, -1.09334701e+00,\n",
       "        -1.09403635e+00, -1.09469680e+00, -1.09535708e+00, -1.09598514e+00,\n",
       "        -1.09658257e+00, -1.09714936e+00, -1.09768689e+00, -1.09822427e+00,\n",
       "        -1.09872979e+00, -1.09920467e+00, -1.09964891e+00, -1.10006351e+00,\n",
       "        -1.10047797e+00, -1.10086093e+00, -1.10121326e+00, -1.10153496e+00,\n",
       "        -1.10182662e+00, -1.10211815e+00, -1.10237857e+00, -1.10260835e+00,\n",
       "        -1.10280750e+00, -1.10297600e+00, -1.10311425e+00, -1.10325235e+00,\n",
       "        -1.10335959e+00, -1.10343618e+00, -1.10348214e+00, -1.10349746e+00],      dtype=float64),\n",
       " 'v_final': Array([-1.30254928, -1.30253396, -1.30248801, -1.30241141, -1.30230418,\n",
       "        -1.30216632, -1.30199781, -1.30179867, -1.30156889, -1.30130848,\n",
       "        -1.30101742, -1.30069573, -1.30034341, -1.29996044, -1.29954684,\n",
       "        -1.2991026 , -1.29862773, -1.29812221, -1.29758606, -1.29701928,\n",
       "        -1.29642185, -1.29579379, -1.29513509, -1.29444576, -1.29372578,\n",
       "        -1.29297517, -1.29219393, -1.29138204, -1.29053952, -1.28966636,\n",
       "        -1.28876257, -1.28782814, -1.28686307, -1.28586736, -1.28484101,\n",
       "        -1.28378403, -1.28269641, -1.28157816, -1.28042927, -1.27924974,\n",
       "        -1.27803957, -1.27679877, -1.27552732, -1.27422525, -1.27289253,\n",
       "        -1.27152918, -1.27013519, -1.26871056, -1.2672553 , -1.2657694 ,\n",
       "        -1.26425286, -1.26270568, -1.26112787, -1.25951942, -1.25788033,\n",
       "        -1.25621061, -1.25451025, -1.25277925, -1.25101761, -1.24922534,\n",
       "        -1.24740243, -1.24554888, -1.2436647 , -1.24174988, -1.23980442,\n",
       "        -1.23782832, -1.23582159, -1.23378422, -1.23171622, -1.22961757,\n",
       "        -1.22748829, -1.22532837, -1.22313782, -1.22091662, -1.21866479,\n",
       "        -1.21638233, -1.21406922, -1.21172548, -1.2093511 , -1.20694609,\n",
       "        -1.20451044, -1.20204415, -1.19954722, -1.19701965, -1.19446145,\n",
       "        -1.19187261, -1.18925314, -1.18660303, -1.18392228, -1.18121089,\n",
       "        -1.17846887, -1.1756962 , -1.17289291, -1.17005897, -1.1671944 ,\n",
       "        -1.16429919, -1.16137334, -1.15841686, -1.15542973, -1.15241198,\n",
       "        -1.14936358, -1.14628455, -1.14317488, -1.14003457, -1.13686363,\n",
       "        -1.13366204, -1.13042983, -1.12716697, -1.12387348, -1.12054935,\n",
       "        -1.11719458, -1.11380917, -1.11039313, -1.10694645, -1.10346914,\n",
       "        -1.09996119, -1.09642259, -1.09285337, -1.0892535 , -1.085623  ,\n",
       "        -1.08196186, -1.07827009, -1.07454767, -1.07079462, -1.06701093,\n",
       "        -1.06319661, -1.05935165, -1.05547605, -1.05156981, -1.04763294,\n",
       "        -1.04366542, -1.03966728, -1.03563849, -1.03157907, -1.02748901,\n",
       "        -1.02336831, -1.01921698, -1.01503501, -1.0108224 , -1.00657915,\n",
       "        -1.00230527, -0.99800075, -0.99366559, -0.9892998 , -0.98490336,\n",
       "        -0.98047629, -0.97601859, -0.97153024, -0.96701126, -0.96246165,\n",
       "        -0.95788139, -0.9532705 , -0.94862897, -0.9439568 , -0.939254  ,\n",
       "        -0.93452055, -0.92975647, -0.92496176, -0.9201364 , -0.91528191,\n",
       "        -0.91042732, -0.90554068, -0.90062341, -0.8956755 , -0.89069695,\n",
       "        -0.88568777, -0.88064795, -0.8755775 , -0.8704764 , -0.86534468,\n",
       "        -0.86018231, -0.85498931, -0.84976567, -0.8445114 , -0.83922648,\n",
       "        -0.83391093, -0.82856475, -0.82318953, -0.81781408, -0.81240661,\n",
       "        -0.80696851, -0.80149978, -0.7960004 , -0.79047039, -0.78490974,\n",
       "        -0.77931845, -0.77369653, -0.76804397, -0.76236232, -0.75668033,\n",
       "        -0.7509665 , -0.74522202, -0.73944691, -0.73364116, -0.72780477,\n",
       "        -0.72193775, -0.71604009, -0.71011359, -0.70418666, -0.69822772,\n",
       "        -0.69223815, -0.68621794, -0.68016709, -0.6740856 , -0.66797544,\n",
       "        -0.66186474, -0.65572198, -0.64954858, -0.64334455, -0.63711142,\n",
       "        -0.63087769, -0.62461238, -0.61831643, -0.61198984, -0.60563415,\n",
       "        -0.59927776, -0.5928899 , -0.5864714 , -0.58002226, -0.57354447,\n",
       "        -0.56706589, -0.56055548, -0.55401443, -0.54744476, -0.54087423,\n",
       "        -0.5342719 , -0.52764038, -0.52100792, -0.51434433, -0.50765009,\n",
       "        -0.50092734, -0.49420356, -0.48744805, -0.48066397, -0.47387879,\n",
       "        -0.467062  , -0.46021682, -0.45337045, -0.44649378, -0.43961586,\n",
       "        -0.43270716, -0.4257698 , -0.4188311 , -0.41186252, -0.40489255,\n",
       "        -0.39789193, -0.39086306, -0.38383271, -0.37677287, -0.3697115 ,\n",
       "        -0.36262079, -0.35552851, -0.34840705, -0.34128394, -0.33413187,\n",
       "        -0.32697808, -0.31979553, -0.3126112 , -0.30539698, -0.29818025,\n",
       "        -0.29096395, -0.28371938, -0.27647285, -0.26919708, -0.26191853,\n",
       "        -0.25464053, -0.24733482, -0.24002695, -0.23269109, -0.22535361,\n",
       "        -0.21801482, -0.21064875, -0.2032808 , -0.19591015, -0.18853962,\n",
       "        -0.18114225, -0.17374246, -0.16634028, -0.15893849, -0.15151036,\n",
       "        -0.14408022, -0.13664811, -0.12921408, -0.12178086, -0.11432189,\n",
       "        -0.10686066, -0.09939815, -0.09193445, -0.08446962, -0.07700345,\n",
       "        -0.06953601, -0.06207065, -0.05458039, -0.04708717, -0.03959317,\n",
       "        -0.03209849, -0.02460319, -0.01710735, -0.00961103, -0.0021143 ,\n",
       "         0.00538272,  0.01287994,  0.0203773 ,  0.02787471,  0.0353721 ,\n",
       "         0.04284588,  0.05031944,  0.05779271,  0.06526558,  0.07273797,\n",
       "         0.08020978,  0.08768093,  0.09515133,  0.1025974 ,  0.11004257,\n",
       "         0.11748676,  0.12492988,  0.13237186,  0.13978904,  0.14720484,\n",
       "         0.15461918,  0.16203192,  0.16941938,  0.17680519,  0.18418903,\n",
       "         0.19157091,  0.19892706,  0.20628104,  0.21363275,  0.22095837,\n",
       "         0.22828155,  0.23560227,  0.24289678,  0.25018873,  0.25745436,\n",
       "         0.26471733,  0.27197744,  0.27921098,  0.28644168,  0.29364557,\n",
       "         0.30084636,  0.30802028,  0.31519058,  0.32233432,  0.32947401,\n",
       "         0.33658737,  0.34369642,  0.35077928,  0.3578577 ,  0.36490996,\n",
       "         0.37195766,  0.3789791 ,  0.38599595,  0.39298714,  0.39994903,\n",
       "         0.40690554,  0.41383607,  0.42076134,  0.42766159,  0.43453188,\n",
       "         0.44139622,  0.44823572,  0.45504495,  0.46184803,  0.46862639,\n",
       "         0.47537436,  0.48211615,  0.48883324,  0.49551985,  0.50220026,\n",
       "         0.50885567,  0.51548167,  0.52207683,  0.52866579,  0.53522968,\n",
       "         0.54176412,  0.5482677 ,  0.55476506,  0.56123706,  0.56767942,\n",
       "         0.57409209,  0.58047359,  0.58684872,  0.59319831,  0.59951807,\n",
       "         0.60580796,  0.61206797,  0.61829805,  0.62449648,  0.6306884 ,\n",
       "         0.63685483,  0.64299118,  0.64909742,  0.65517352,  0.66121945,\n",
       "         0.66723518,  0.67322072,  0.67917609,  0.68509934,  0.69101599,\n",
       "         0.69690716,  0.70276804,  0.70859857,  0.71439868,  0.72016829,\n",
       "         0.72590732,  0.73161571,  0.73729343,  0.74294046,  0.74855681,\n",
       "         0.75414249,  0.7596975 ,  0.76522187,  0.77071559,  0.77617866,\n",
       "         0.78161107,  0.78701277,  0.79238371,  0.79772386,  0.80300583,\n",
       "         0.80825689,  0.81347697,  0.81866604,  0.82382407,  0.82895103,\n",
       "         0.8340468 ,  0.83911132,  0.8441446 ,  0.8491195 ,  0.85406337,\n",
       "         0.85897594,  0.86385718,  0.86870708,  0.87352564,  0.87831288,\n",
       "         0.88304152,  0.88773888,  0.89240493,  0.89703967,  0.90164306,\n",
       "         0.90618754,  0.91070061,  0.91518228,  0.91963249,  0.92402341,\n",
       "         0.92838283,  0.93271078,  0.93697927,  0.94121636,  0.94542205,\n",
       "         0.94959627,  0.953711  ,  0.95779431,  0.96184611,  0.9658382 ,\n",
       "         0.96979871,  0.97369923,  0.97756806,  0.98140516,  0.98518209,\n",
       "         0.98892722,  0.99261204,  0.99626505,  0.99985761,  1.0034183 ,\n",
       "         1.0069184 ,  1.01038659,  1.01379405,  1.01716956,  1.02048423,\n",
       "         1.02376694,  1.02698869,  1.03014941,  1.0332781 ,  1.03634565,\n",
       "         1.03935198,  1.04232629,  1.04523933,  1.04809109,  1.05088151,\n",
       "         1.05363991,  1.05633692,  1.05897248,  1.06154656,  1.06405911,\n",
       "         1.06651011,  1.06889954,  1.07122737,  1.07349356,  1.07569804,\n",
       "         1.07784074,  1.07992159,  1.08191069,  1.08383774,  1.0857027 ,\n",
       "         1.0874756 ,  1.08918633,  1.09080489,  1.09236121,  1.09382522,\n",
       "         1.09519681,  1.09647589,  1.09766236,  1.09875616,  1.09975723,\n",
       "         1.10066552,  1.10145071,  1.10211273,  1.10265149,  1.10306695,\n",
       "         1.1033591 ,  1.10349759], dtype=float64),\n",
       " 'iterations': Array(136680, dtype=int32),\n",
       " 'error': Array(1.05690095e-08, dtype=float64)}"
      ]
     },
     "execution_count": 148,
     "metadata": {},
     "output_type": "execute_result"
    }
   ],
   "execution_count": 148
  },
  {
   "metadata": {
    "ExecuteTime": {
     "end_time": "2025-07-17T16:11:15.201935Z",
     "start_time": "2025-07-17T16:11:15.197902Z"
    }
   },
   "cell_type": "code",
   "source": [
    "import jax.numpy as jnp\n",
    "\n",
    "mu = problem.get_marginals()[0].to_discrete()[1]\n",
    "nu = problem.get_marginals()[1].to_discrete()[1]\n",
    "\n",
    "P = jnp.clip(1/reg*(u[:, None] + v[None, :] - problem.get_costs()[0]), 0.0)"
   ],
   "id": "92690717824dbdf",
   "outputs": [],
   "execution_count": 149
  },
  {
   "metadata": {
    "ExecuteTime": {
     "end_time": "2025-07-17T16:11:16.755342Z",
     "start_time": "2025-07-17T16:11:16.667397Z"
    }
   },
   "cell_type": "code",
   "source": [
    "import ot.plot\n",
    "\n",
    "ot.plot.plot1D_mat(mu, nu, P)"
   ],
   "id": "3918dfa8811b67f5",
   "outputs": [
    {
     "data": {
      "text/plain": [
       "(<Axes: >, <Axes: >, <Axes: >)"
      ]
     },
     "execution_count": 150,
     "metadata": {},
     "output_type": "execute_result"
    },
    {
     "data": {
      "text/plain": [
       "<Figure size 640x480 with 3 Axes>"
      ],
      "image/png": "[encoded data removed]"
     },
     "metadata": {},
     "output_type": "display_data"
    }
   ],
   "execution_count": 150
  },
  {
   "metadata": {
    "ExecuteTime": {
     "end_time": "2025-07-17T16:11:19.177678Z",
     "start_time": "2025-07-17T16:11:19.093317Z"
    }
   },
   "cell_type": "code",
   "source": "ot.plot.plot1D_mat(mu, nu, plan)",
   "id": "6736188b4629c8fb",
   "outputs": [
    {
     "data": {
      "text/plain": [
       "(<Axes: >, <Axes: >, <Axes: >)"
      ]
     },
     "execution_count": 151,
     "metadata": {},
     "output_type": "execute_result"
    },
    {
     "data": {
      "text/plain": [
       "<Figure size 640x480 with 3 Axes>"
      ],
      "image/png": "[encoded data removed]"
     },
     "metadata": {},
     "output_type": "display_data"
    }
   ],
   "execution_count": 151
  },
  {
   "metadata": {
    "ExecuteTime": {
     "end_time": "2025-07-17T16:11:21.989095Z",
     "start_time": "2025-07-17T16:11:21.985546Z"
    }
   },
   "cell_type": "code",
   "source": "jnp.linalg.norm(P - plan)",
   "id": "5a05562a67f4dea8",
   "outputs": [
    {
     "data": {
      "text/plain": [
       "Array(0.03915007, dtype=float64)"
      ]
     },
     "execution_count": 152,
     "metadata": {},
     "output_type": "execute_result"
    }
   ],
   "execution_count": 152
  },
  {
   "metadata": {
    "ExecuteTime": {
     "end_time": "2025-07-17T16:11:24.791391Z",
     "start_time": "2025-07-17T16:11:24.757981Z"
    }
   },
   "cell_type": "code",
   "source": "P_lp = ot.emd(mu, nu, problem.get_costs()[0])",
   "id": "b2113cb81fe8b4af",
   "outputs": [],
   "execution_count": 153
  },
  {
   "metadata": {
    "ExecuteTime": {
     "end_time": "2025-07-17T16:11:25.774929Z",
     "start_time": "2025-07-17T16:11:25.771310Z"
    }
   },
   "cell_type": "code",
   "source": "jnp.linalg.norm(P - P_lp)",
   "id": "6f414a9914152f9b",
   "outputs": [
    {
     "data": {
      "text/plain": [
       "Array(0.03914951, dtype=float64)"
      ]
     },
     "execution_count": 154,
     "metadata": {},
     "output_type": "execute_result"
    }
   ],
   "execution_count": 154
  },
  {
   "metadata": {},
   "cell_type": "code",
   "outputs": [],
   "execution_count": null,
   "source": "",
   "id": "9d9e24cfafbe4712"
  }
 ],
 "metadata": {
  "kernelspec": {
   "display_name": "Python 3",
   "language": "python",
   "name": "python3"
  },
  "language_info": {
   "codemirror_mode": {
    "name": "ipython",
    "version": 2
   },
   "file_extension": ".py",
   "mimetype": "text/x-python",
   "name": "python",
   "nbconvert_exporter": "python",
   "pygments_lexer": "ipython2",
   "version": "2.7.6"
  }
 },
 "nbformat": 4,
 "nbformat_minor": 5
}
